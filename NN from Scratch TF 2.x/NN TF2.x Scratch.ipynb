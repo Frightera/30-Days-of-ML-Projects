{
  "nbformat": 4,
  "nbformat_minor": 0,
  "metadata": {
    "kernelspec": {
      "display_name": "Python 3",
      "language": "python",
      "name": "python3"
    },
    "language_info": {
      "codemirror_mode": {
        "name": "ipython",
        "version": 3
      },
      "file_extension": ".py",
      "mimetype": "text/x-python",
      "name": "python",
      "nbconvert_exporter": "python",
      "pygments_lexer": "ipython3",
      "version": "3.6.8"
    },
    "colab": {
      "name": "Neural Network from Scratch TF 2.x.ipynb",
      "provenance": [],
      "collapsed_sections": []
    }
  },
  "cells": [
    {
      "cell_type": "markdown",
      "metadata": {
        "id": "buebgNR0IRmL"
      },
      "source": [
        "# Neural Network from Scratch in TensorFlow 2.x"
      ]
    },
    {
      "cell_type": "markdown",
      "metadata": {
        "id": "xqNoFlfHIRmT"
      },
      "source": [
        "# Importing Libraries"
      ]
    },
    {
      "cell_type": "code",
      "metadata": {
        "colab": {
          "base_uri": "https://localhost:8080/"
        },
        "id": "edp0XkDuIRmU",
        "outputId": "e22ea28f-ed7b-49d8-bc0f-160bd4e55a21"
      },
      "source": [
        "import tensorflow as tf\n",
        "import numpy as np\n",
        "import matplotlib.pyplot as plt\n",
        "%matplotlib inline\n",
        "\n",
        "print('TensorFlow Version:', tf.__version__)"
      ],
      "execution_count": 2,
      "outputs": [
        {
          "output_type": "stream",
          "text": [
            "TensorFlow Version: 2.4.1\n"
          ],
          "name": "stdout"
        }
      ]
    },
    {
      "cell_type": "markdown",
      "metadata": {
        "id": "u8hLEVe6IRmV"
      },
      "source": [
        "# Initializing Neural Network"
      ]
    },
    {
      "cell_type": "code",
      "metadata": {
        "id": "D-vEuERIIRmW"
      },
      "source": [
        "class NeuralNetwork:\n",
        "    def __init__(self, layers):\n",
        "        self.layers = layers\n",
        "        self.L = len(layers)\n",
        "        self.num_features = layers[0]\n",
        "        self.num_classes = layers[-1]\n",
        "        \n",
        "        self.W = {}\n",
        "        self.b = {}\n",
        "        \n",
        "        self.dW = {}\n",
        "        self.db = {}\n",
        "        \n",
        "        self.setup()\n",
        "        \n",
        "    def setup(self):\n",
        "        for i in range(1, self.L):\n",
        "            self.W[i] = tf.Variable(tf.random.normal(shape=(self.layers[i], self.layers[i-1])))\n",
        "            self.b[i] = tf.Variable(tf.random.normal(shape=(self.layers[i], 1)))"
      ],
      "execution_count": 3,
      "outputs": []
    },
    {
      "cell_type": "markdown",
      "metadata": {
        "id": "z2GVYN19IRmW"
      },
      "source": [
        "# Forward Pass"
      ]
    },
    {
      "cell_type": "code",
      "metadata": {
        "id": "PbIxuqsmIRmX"
      },
      "source": [
        "class NeuralNetwork(NeuralNetwork):\n",
        "    def forward_pass(self, A):\n",
        "        A = tf.convert_to_tensor(A, dtype=tf.float32)\n",
        "        for i in range(1, self.L):\n",
        "            Z = tf.matmul(A, tf.transpose(self.W[i])) + tf.transpose(self.b[i])\n",
        "            if i != self.L-1:\n",
        "                A = tf.nn.relu(Z)\n",
        "            else:\n",
        "                A = Z\n",
        "        return A"
      ],
      "execution_count": 4,
      "outputs": []
    },
    {
      "cell_type": "markdown",
      "metadata": {
        "id": "5f0JRO0BIRmX"
      },
      "source": [
        "# Computing Loss and Updating Parameters"
      ]
    },
    {
      "cell_type": "code",
      "metadata": {
        "id": "ZLnppevuIRmY"
      },
      "source": [
        "class NeuralNetwork(NeuralNetwork):\n",
        "    def compute_loss(self, A, Y):\n",
        "        return tf.reduce_mean(tf.nn.softmax_cross_entropy_with_logits(Y, A))\n",
        "    \n",
        "    def update_params(self, lr):\n",
        "        for i in range(1, self.L):\n",
        "            self.W[i].assign_sub(lr * self.dW[i])\n",
        "            self.b[i].assign_sub(lr * self.db[i])"
      ],
      "execution_count": 5,
      "outputs": []
    },
    {
      "cell_type": "markdown",
      "metadata": {
        "id": "fhomCynWIRmY"
      },
      "source": [
        "# Predict and Model Summary"
      ]
    },
    {
      "cell_type": "code",
      "metadata": {
        "id": "40l3BpoRIRmY"
      },
      "source": [
        "class NeuralNetwork(NeuralNetwork):\n",
        "    def predict(self, X):\n",
        "        A = self.forward_pass(X)\n",
        "        return tf.argmax(tf.nn.softmax(A), axis=1)\n",
        "    \n",
        "    def info(self):\n",
        "        num_params = 0\n",
        "        for i in range(1, self.L):\n",
        "            num_params += self.W[i].shape[0] * self.W[i].shape[1]\n",
        "            num_params += self.b[i].shape[0]\n",
        "        print('Input Features:', self.num_features)\n",
        "        print('Number of Classes:', self.num_classes)\n",
        "        print('Hidden Layers:')\n",
        "        print('--------------')\n",
        "        for i in range(1, self.L-1):\n",
        "            print('Layer {}, Units {}'.format(i, self.layers[i]))\n",
        "        print('--------------')\n",
        "        print('Number of parameters:', num_params)"
      ],
      "execution_count": 6,
      "outputs": []
    },
    {
      "cell_type": "markdown",
      "metadata": {
        "id": "ag51eJgiIRmZ"
      },
      "source": [
        "# Training on Batch"
      ]
    },
    {
      "cell_type": "code",
      "metadata": {
        "id": "Eljsfe8JIRmZ"
      },
      "source": [
        "class NeuralNetwork(NeuralNetwork):\n",
        "    def train_on_batch(self, X, Y, lr):\n",
        "        X = tf.convert_to_tensor(X, dtype=tf.float32)\n",
        "        Y = tf.convert_to_tensor(Y, dtype=tf.float32)\n",
        "        \n",
        "        with tf.GradientTape(persistent=True) as tape:\n",
        "            A = self.forward_pass(X)\n",
        "            loss = self.compute_loss(A, Y)\n",
        "        for key in self.W.keys():\n",
        "            self.dW[key] = tape.gradient(loss, self.W[key])\n",
        "            self.db[key] = tape.gradient(loss, self.b[key])\n",
        "        del tape\n",
        "        self.update_params(lr)\n",
        "        \n",
        "        return loss.numpy()"
      ],
      "execution_count": 7,
      "outputs": []
    },
    {
      "cell_type": "markdown",
      "metadata": {
        "id": "xcHzADozIRma"
      },
      "source": [
        "# Training on MNIST Data"
      ]
    },
    {
      "cell_type": "code",
      "metadata": {
        "id": "PW4K-nXTIRma"
      },
      "source": [
        "class NeuralNetwork(NeuralNetwork):\n",
        "    def train(self, x_train, y_train, x_test, y_test, epochs, steps_per_epoch, batch_size, lr):\n",
        "        history = {\n",
        "            'val_loss': [],\n",
        "            'train_loss': [],\n",
        "            'val_acc': []\n",
        "        }\n",
        "        \n",
        "        for e in range(0, epochs):\n",
        "            epoch_train_loss = 0.\n",
        "            print('Epoch {}'.format(e), end='.')\n",
        "            for i in range(0, steps_per_epoch):\n",
        "                x_batch = x_train[i*batch_size:(i+1)*batch_size]\n",
        "                y_batch = y_train[i*batch_size:(i+1)*batch_size]\n",
        "                batch_loss = self.train_on_batch(x_batch, y_batch, lr)\n",
        "                epoch_train_loss += batch_loss\n",
        "                \n",
        "                if i%int(steps_per_epoch/10) == 0:\n",
        "                    print(end='.')\n",
        "                    \n",
        "            history['train_loss'].append(epoch_train_loss/steps_per_epoch)\n",
        "            \n",
        "            val_A = self.forward_pass(x_test)\n",
        "            history['val_loss'].append(self.compute_loss(val_A, y_test).numpy())\n",
        "            \n",
        "            val_preds = self.predict(x_test)\n",
        "            history['val_acc'].append(np.mean(np.argmax(y_test, axis=1) == val_preds.numpy()))\n",
        "            print('Val Acc:', history['val_acc'][-1])\n",
        "        return history"
      ],
      "execution_count": 8,
      "outputs": []
    },
    {
      "cell_type": "markdown",
      "metadata": {
        "id": "pyMkKYeFIRmb"
      },
      "source": [
        "# Load MNIST Data for Training"
      ]
    },
    {
      "cell_type": "code",
      "metadata": {
        "colab": {
          "base_uri": "https://localhost:8080/"
        },
        "id": "LvvuqmYZIRmb",
        "outputId": "d111b835-ff9f-4981-8a39-b9ff6c84f4d6"
      },
      "source": [
        "(x_train, y_train), (x_test, y_test) = tf.keras.datasets.mnist.load_data()\n",
        "x_train = np.reshape(x_train, (x_train.shape[0], 784))/ 255.0 # normalize\n",
        "x_test = np.reshape(x_test, (x_test.shape[0], 784))/ 255.0\n",
        "y_train = tf.keras.utils.to_categorical(y_train)\n",
        "y_test = tf.keras.utils.to_categorical(y_test)"
      ],
      "execution_count": 9,
      "outputs": [
        {
          "output_type": "stream",
          "text": [
            "Downloading data from https://storage.googleapis.com/tensorflow/tf-keras-datasets/mnist.npz\n",
            "11493376/11490434 [==============================] - 0s 0us/step\n"
          ],
          "name": "stdout"
        }
      ]
    },
    {
      "cell_type": "code",
      "metadata": {
        "id": "5rXb3VxJIyfI"
      },
      "source": [
        "def plot_random_examples(x, y, p=None):\r\n",
        "    indices = np.random.choice(range(0, x.shape[0]), 10)\r\n",
        "    y = np.argmax(y, axis=1)\r\n",
        "    if p is None:\r\n",
        "        p = y\r\n",
        "    plt.figure(figsize=(10, 5))\r\n",
        "    for i, index in enumerate(indices):\r\n",
        "        plt.subplot(2, 5, i+1)\r\n",
        "        plt.imshow(x[index].reshape((28, 28)), cmap='binary')\r\n",
        "        plt.xticks([])\r\n",
        "        plt.yticks([])\r\n",
        "        if y[index] == p[index]:\r\n",
        "            col = 'g'\r\n",
        "        else:\r\n",
        "            col = 'r'\r\n",
        "        plt.xlabel(str(p[index]), color=col)\r\n",
        "    return plt"
      ],
      "execution_count": 10,
      "outputs": []
    },
    {
      "cell_type": "code",
      "metadata": {
        "colab": {
          "base_uri": "https://localhost:8080/",
          "height": 289
        },
        "id": "TU2n4iRNI1h3",
        "outputId": "0f2cc220-bddc-4366-eaa2-b52d0210f8aa"
      },
      "source": [
        "plot_random_examples(x_train, y_train).show()"
      ],
      "execution_count": 11,
      "outputs": [
        {
          "output_type": "display_data",
          "data": {
            "image/png": "[encoded data removed]",
            "text/plain": [
              "<Figure size 720x360 with 10 Axes>"
            ]
          },
          "metadata": {
            "tags": []
          }
        }
      ]
    },
    {
      "cell_type": "code",
      "metadata": {
        "colab": {
          "base_uri": "https://localhost:8080/"
        },
        "id": "FoWLB7_7IRmb",
        "outputId": "c01b43dd-51fd-422a-b1c3-700b88efc15d"
      },
      "source": [
        "net = NeuralNetwork([784, 256, 128, 10])\n",
        "net.info()"
      ],
      "execution_count": 15,
      "outputs": [
        {
          "output_type": "stream",
          "text": [
            "Input Features: 784\n",
            "Number of Classes: 10\n",
            "Hidden Layers:\n",
            "--------------\n",
            "Layer 1, Units 256\n",
            "Layer 2, Units 128\n",
            "--------------\n",
            "Number of parameters: 235146\n"
          ],
          "name": "stdout"
        }
      ]
    },
    {
      "cell_type": "code",
      "metadata": {
        "colab": {
          "base_uri": "https://localhost:8080/"
        },
        "id": "_pY3Gn7yIRmc",
        "outputId": "282ff571-63c0-4149-8545-b9872863068e"
      },
      "source": [
        "batch_size = 120\n",
        "epochs = 10\n",
        "steps_per_epoch = int(x_train.shape[0]/batch_size)\n",
        "lr = 3e-3\n",
        "\n",
        "print('Steps per epoch:', steps_per_epoch)"
      ],
      "execution_count": 16,
      "outputs": [
        {
          "output_type": "stream",
          "text": [
            "Steps per epoch: 500\n"
          ],
          "name": "stdout"
        }
      ]
    },
    {
      "cell_type": "code",
      "metadata": {
        "colab": {
          "base_uri": "https://localhost:8080/"
        },
        "id": "eU-dgEEKIRmc",
        "outputId": "64245a78-6464-4b0b-8283-48c9176b7f7d"
      },
      "source": [
        "history = net.train(\n",
        "    x_train, y_train,\n",
        "    x_test, y_test,\n",
        "    epochs, steps_per_epoch,\n",
        "    batch_size, lr\n",
        ")"
      ],
      "execution_count": 17,
      "outputs": [
        {
          "output_type": "stream",
          "text": [
            "Epoch 0...........Val Acc: 0.8459\n",
            "Epoch 1...........Val Acc: 0.867\n",
            "Epoch 2...........Val Acc: 0.8803\n",
            "Epoch 3...........Val Acc: 0.8844\n",
            "Epoch 4...........Val Acc: 0.8846\n",
            "Epoch 5...........Val Acc: 0.8884\n",
            "Epoch 6...........Val Acc: 0.8906\n",
            "Epoch 7...........Val Acc: 0.8938\n",
            "Epoch 8...........Val Acc: 0.8952\n",
            "Epoch 9...........Val Acc: 0.8983\n"
          ],
          "name": "stdout"
        }
      ]
    },
    {
      "cell_type": "markdown",
      "metadata": {
        "id": "RV3Kni7aIRmc"
      },
      "source": [
        "# Predictions & Results"
      ]
    },
    {
      "cell_type": "code",
      "metadata": {
        "id": "EzSQyezrI-ti"
      },
      "source": [
        "def plot_results(history):\r\n",
        "    plt.figure(figsize=(12, 4))\r\n",
        "    epochs = len(history['val_loss'])\r\n",
        "    plt.subplot(1, 2, 1)\r\n",
        "    plt.plot(range(epochs), history['val_loss'], label='Val Loss')\r\n",
        "    plt.plot(range(epochs), history['train_loss'], label='Train Loss')\r\n",
        "    plt.xticks(list(range(epochs)))\r\n",
        "    plt.xlabel('Epochs')\r\n",
        "    plt.ylabel('Loss')\r\n",
        "    plt.legend()\r\n",
        "    plt.subplot(1, 2, 2)\r\n",
        "    plt.plot(range(epochs), history['val_acc'], label='Val Acc')\r\n",
        "    plt.xticks(list(range(epochs)))\r\n",
        "    plt.xlabel('Epochs')\r\n",
        "    plt.ylabel('Accuracy')\r\n",
        "    plt.legend()\r\n",
        "    return plt"
      ],
      "execution_count": 18,
      "outputs": []
    },
    {
      "cell_type": "code",
      "metadata": {
        "colab": {
          "base_uri": "https://localhost:8080/",
          "height": 283
        },
        "id": "1Jesti29IRmd",
        "outputId": "00806fdc-d50c-428c-8a13-edaf418b208b"
      },
      "source": [
        "plot_results(history).show()"
      ],
      "execution_count": 19,
      "outputs": [
        {
          "output_type": "display_data",
          "data": {
            "image/png": "[encoded data removed]",
            "text/plain": [
              "<Figure size 864x288 with 2 Axes>"
            ]
          },
          "metadata": {
            "tags": [],
            "needs_background": "light"
          }
        }
      ]
    },
    {
      "cell_type": "code",
      "metadata": {
        "id": "EJKzeDxQIRmd"
      },
      "source": [
        "preds = net.predict(x_test)"
      ],
      "execution_count": 20,
      "outputs": []
    },
    {
      "cell_type": "code",
      "metadata": {
        "colab": {
          "base_uri": "https://localhost:8080/",
          "height": 289
        },
        "id": "ptpQfiIaIRmd",
        "outputId": "6eaeace6-716c-435a-8cc9-723d557c5437"
      },
      "source": [
        "plot_random_examples(x_test, y_test, preds.numpy()).show()"
      ],
      "execution_count": 21,
      "outputs": [
        {
          "output_type": "display_data",
          "data": {
            "image/png": "[encoded data removed]",
            "text/plain": [
              "<Figure size 720x360 with 10 Axes>"
            ]
          },
          "metadata": {
            "tags": []
          }
        }
      ]
    }
  ]
}