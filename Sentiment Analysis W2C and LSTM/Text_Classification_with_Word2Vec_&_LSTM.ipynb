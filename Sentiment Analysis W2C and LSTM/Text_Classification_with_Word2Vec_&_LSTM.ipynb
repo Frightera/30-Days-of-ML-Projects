{
  "nbformat": 4,
  "nbformat_minor": 0,
  "metadata": {
    "colab": {
      "name": "Text Classification with Word2Vec & LSTM.ipynb",
      "provenance": [],
      "collapsed_sections": [],
      "toc_visible": true
    },
    "kernelspec": {
      "name": "python3",
      "display_name": "Python 3"
    },
    "accelerator": "GPU"
  },
  "cells": [
    {
      "cell_type": "markdown",
      "metadata": {
        "id": "Ryjoo7_pRRV3"
      },
      "source": [
        "**Sentiment classification** is the automated process of identifying opinions in text and labeling them as positive, negative, or neutral, based on the emotions customers express within them."
      ]
    },
    {
      "cell_type": "code",
      "metadata": {
        "id": "mpvNYWyARRWB",
        "colab": {
          "base_uri": "https://localhost:8080/"
        },
        "outputId": "3fed7ca4-9aba-4343-cf14-0020b24b890b"
      },
      "source": [
        "import matplotlib.pyplot as plt\n",
        "import pandas as pd\n",
        "import os\n",
        "import numpy as np\n",
        "import nltk\n",
        "import string\n",
        "from gensim.models import Word2Vec\n",
        "from nltk.tokenize import word_tokenize\n",
        "from nltk.corpus import stopwords\n",
        "nltk.download('stopwords')\n",
        "nltk.download('punkt')"
      ],
      "execution_count": 1,
      "outputs": [
        {
          "output_type": "stream",
          "text": [
            "[nltk_data] Downloading package stopwords to /root/nltk_data...\n",
            "[nltk_data]   Package stopwords is already up-to-date!\n",
            "[nltk_data] Downloading package punkt to /root/nltk_data...\n",
            "[nltk_data]   Package punkt is already up-to-date!\n"
          ],
          "name": "stdout"
        },
        {
          "output_type": "execute_result",
          "data": {
            "text/plain": [
              "True"
            ]
          },
          "metadata": {
            "tags": []
          },
          "execution_count": 1
        }
      ]
    },
    {
      "cell_type": "markdown",
      "metadata": {
        "id": "r3aPhkdgRRWC"
      },
      "source": [
        "## Loading Data "
      ]
    },
    {
      "cell_type": "code",
      "metadata": {
        "id": "Hcp24ujuRRWD",
        "colab": {
          "base_uri": "https://localhost:8080/",
          "height": 204
        },
        "outputId": "da5dac19-16f2-4199-8dd6-eb6623541d6f"
      },
      "source": [
        "path = 'enterdatapathhere'\r\n",
        "df = pd.read_csv(path, encoding= 'utf-8')\r\n",
        "df.sample(5)"
      ],
      "execution_count": 2,
      "outputs": [
        {
          "output_type": "execute_result",
          "data": {
            "text/html": [
              "<div>\n",
              "<style scoped>\n",
              "    .dataframe tbody tr th:only-of-type {\n",
              "        vertical-align: middle;\n",
              "    }\n",
              "\n",
              "    .dataframe tbody tr th {\n",
              "        vertical-align: top;\n",
              "    }\n",
              "\n",
              "    .dataframe thead th {\n",
              "        text-align: right;\n",
              "    }\n",
              "</style>\n",
              "<table border=\"1\" class=\"dataframe\">\n",
              "  <thead>\n",
              "    <tr style=\"text-align: right;\">\n",
              "      <th></th>\n",
              "      <th>review</th>\n",
              "      <th>sentiment</th>\n",
              "    </tr>\n",
              "  </thead>\n",
              "  <tbody>\n",
              "    <tr>\n",
              "      <th>47978</th>\n",
              "      <td>I went to see this movie (actually I went to s...</td>\n",
              "      <td>0</td>\n",
              "    </tr>\n",
              "    <tr>\n",
              "      <th>7441</th>\n",
              "      <td>Now, I'm a bit biased, since I'm a big fan of ...</td>\n",
              "      <td>1</td>\n",
              "    </tr>\n",
              "    <tr>\n",
              "      <th>27704</th>\n",
              "      <td>For a first film in a proposed series it achie...</td>\n",
              "      <td>1</td>\n",
              "    </tr>\n",
              "    <tr>\n",
              "      <th>44415</th>\n",
              "      <td>After having seen the Canadian/Icelandic/Briti...</td>\n",
              "      <td>0</td>\n",
              "    </tr>\n",
              "    <tr>\n",
              "      <th>13180</th>\n",
              "      <td>I'm not one of those folks who bemoans everyti...</td>\n",
              "      <td>0</td>\n",
              "    </tr>\n",
              "  </tbody>\n",
              "</table>\n",
              "</div>"
            ],
            "text/plain": [
              "                                                  review  sentiment\n",
              "47978  I went to see this movie (actually I went to s...          0\n",
              "7441   Now, I'm a bit biased, since I'm a big fan of ...          1\n",
              "27704  For a first film in a proposed series it achie...          1\n",
              "44415  After having seen the Canadian/Icelandic/Briti...          0\n",
              "13180  I'm not one of those folks who bemoans everyti...          0"
            ]
          },
          "metadata": {
            "tags": []
          },
          "execution_count": 2
        }
      ]
    },
    {
      "cell_type": "markdown",
      "metadata": {
        "id": "AjYK3OKARRWD"
      },
      "source": [
        "\n",
        "# Data Preprocessing\n",
        "\n",
        "1. **Tokenization**\n",
        "\n",
        "2. Removing **Punctuations**\n",
        "\n",
        "3. Removing tokens which are not alphabetic\n",
        "\n",
        "4. **Stopwords Removal**: Because they do not effect on sentiment analysis. ( 'a' / 'an' / 'the' etc )\n",
        "\n",
        "\n"
      ]
    },
    {
      "cell_type": "code",
      "metadata": {
        "id": "fFKqGAUORRWE",
        "colab": {
          "base_uri": "https://localhost:8080/"
        },
        "outputId": "d5145c8f-cc75-4306-be04-eb293bd6218b"
      },
      "source": [
        "import string\n",
        "from nltk.tokenize import word_tokenize\n",
        "from nltk.corpus import stopwords\n",
        "\n",
        "review_lines = []\n",
        "lines = df['review'].values.tolist()\n",
        "\n",
        "for line in lines:\n",
        "  tokens = word_tokenize(line)\n",
        "  tokens = [word.lower() for word in tokens]\n",
        "  table = str.maketrans('', '', string.punctuation)\n",
        "  stripped = [w.translate(table) for w in tokens]\n",
        "  words = [word for word in stripped if word.isalpha()]\n",
        "  stop_words = set(stopwords.words('english'))\n",
        "  words = [w for w in words if not w in stop_words]\n",
        "  review_lines.append(words)\n",
        "\n",
        "review_lines[2]  "
      ],
      "execution_count": 3,
      "outputs": [
        {
          "output_type": "execute_result",
          "data": {
            "text/plain": [
              "['recreational',\n",
              " 'golfer',\n",
              " 'knowledge',\n",
              " 'sport',\n",
              " 'history',\n",
              " 'pleased',\n",
              " 'disney',\n",
              " 'sensitivity',\n",
              " 'issues',\n",
              " 'class',\n",
              " 'golf',\n",
              " 'early',\n",
              " 'twentieth',\n",
              " 'century',\n",
              " 'movie',\n",
              " 'depicted',\n",
              " 'well',\n",
              " 'psychological',\n",
              " 'battles',\n",
              " 'harry',\n",
              " 'vardon',\n",
              " 'fought',\n",
              " 'within',\n",
              " 'childhood',\n",
              " 'trauma',\n",
              " 'evicted',\n",
              " 'inability',\n",
              " 'break',\n",
              " 'glass',\n",
              " 'ceiling',\n",
              " 'prevents',\n",
              " 'accepted',\n",
              " 'equal',\n",
              " 'english',\n",
              " 'golf',\n",
              " 'society',\n",
              " 'likewise',\n",
              " 'young',\n",
              " 'ouimet',\n",
              " 'goes',\n",
              " 'class',\n",
              " 'struggles',\n",
              " 'mere',\n",
              " 'caddie',\n",
              " 'eyes',\n",
              " 'upper',\n",
              " 'crust',\n",
              " 'americans',\n",
              " 'scoff',\n",
              " 'attempts',\n",
              " 'rise',\n",
              " 'standing',\n",
              " 'br',\n",
              " 'br',\n",
              " 'loved',\n",
              " 'best',\n",
              " 'however',\n",
              " 'theme',\n",
              " 'class',\n",
              " 'manifested',\n",
              " 'characters',\n",
              " 'ouimet',\n",
              " 'parents',\n",
              " 'father',\n",
              " 'workingclass',\n",
              " 'drone',\n",
              " 'sees',\n",
              " 'value',\n",
              " 'hard',\n",
              " 'work',\n",
              " 'intimidated',\n",
              " 'upper',\n",
              " 'class',\n",
              " 'mother',\n",
              " 'however',\n",
              " 'recognizes',\n",
              " 'son',\n",
              " 'talent',\n",
              " 'desire',\n",
              " 'encourages',\n",
              " 'pursue',\n",
              " 'dream',\n",
              " 'competing',\n",
              " 'think',\n",
              " 'inferior',\n",
              " 'br',\n",
              " 'br',\n",
              " 'finally',\n",
              " 'golf',\n",
              " 'scenes',\n",
              " 'well',\n",
              " 'photographed',\n",
              " 'although',\n",
              " 'course',\n",
              " 'used',\n",
              " 'movie',\n",
              " 'actual',\n",
              " 'site',\n",
              " 'historical',\n",
              " 'tournament',\n",
              " 'little',\n",
              " 'liberties',\n",
              " 'taken',\n",
              " 'disney',\n",
              " 'detract',\n",
              " 'beauty',\n",
              " 'film',\n",
              " 'one',\n",
              " 'little',\n",
              " 'disney',\n",
              " 'moment',\n",
              " 'pool',\n",
              " 'table',\n",
              " 'otherwise',\n",
              " 'viewer',\n",
              " 'really',\n",
              " 'think',\n",
              " 'disney',\n",
              " 'ending',\n",
              " 'miracle',\n",
              " 'disney',\n",
              " 'creation',\n",
              " 'one',\n",
              " 'human',\n",
              " 'history',\n",
              " 'could',\n",
              " 'written']"
            ]
          },
          "metadata": {
            "tags": []
          },
          "execution_count": 3
        }
      ]
    },
    {
      "cell_type": "code",
      "metadata": {
        "id": "f72zLXwuRRWF",
        "colab": {
          "base_uri": "https://localhost:8080/"
        },
        "outputId": "95c9227c-718c-49e4-c7fe-4c9f10f95456"
      },
      "source": [
        "import gensim\r\n",
        "\r\n",
        "embedding_dimension = 128\r\n",
        "model = gensim.models.Word2Vec(sentences = review_lines, size = embedding_dimension,\r\n",
        "                               window = 5, min_count = 1)\r\n",
        "words = list(model.wv.vocab)\r\n",
        "len(words)"
      ],
      "execution_count": 4,
      "outputs": [
        {
          "output_type": "execute_result",
          "data": {
            "text/plain": [
              "134156"
            ]
          },
          "metadata": {
            "tags": []
          },
          "execution_count": 4
        }
      ]
    },
    {
      "cell_type": "markdown",
      "metadata": {
        "id": "84fhC7W_RRWG"
      },
      "source": [
        "Testing W2C"
      ]
    },
    {
      "cell_type": "code",
      "metadata": {
        "id": "3JGjyrLkRRWG",
        "colab": {
          "base_uri": "https://localhost:8080/"
        },
        "outputId": "7ccad2a0-0aa2-44b4-b0fd-1709f61262f0"
      },
      "source": [
        "model.wv.most_similar('fiction')"
      ],
      "execution_count": 5,
      "outputs": [
        {
          "output_type": "execute_result",
          "data": {
            "text/plain": [
              "[('pulp', 0.786597490310669),\n",
              " ('fictionfantasy', 0.7658475637435913),\n",
              " ('science', 0.7445874214172363),\n",
              " ('fictionhorror', 0.6994146108627319),\n",
              " ('pornscience', 0.6854104399681091),\n",
              " ('sciencefiction', 0.6626852750778198),\n",
              " ('scifi', 0.6456371545791626),\n",
              " ('bwahahaha', 0.62993985414505),\n",
              " ('mollifies', 0.6295548677444458),\n",
              " ('epic', 0.6260235905647278)]"
            ]
          },
          "metadata": {
            "tags": []
          },
          "execution_count": 5
        }
      ]
    },
    {
      "cell_type": "code",
      "metadata": {
        "id": "Z3Q1RS4lRRWH",
        "colab": {
          "base_uri": "https://localhost:8080/"
        },
        "outputId": "62868ca6-f4ea-4ef8-b1f6-587615bfacaa"
      },
      "source": [
        "model.wv.most_similar(positive = ['fiction', 'hero'], negative =  ['human'])"
      ],
      "execution_count": 6,
      "outputs": [
        {
          "output_type": "execute_result",
          "data": {
            "text/plain": [
              "[('pulp', 0.5358914136886597),\n",
              " ('gangster', 0.5307647585868835),\n",
              " ('plagiary', 0.5139117240905762),\n",
              " ('steven', 0.5019327402114868),\n",
              " ('chan', 0.5016313791275024),\n",
              " ('comedynot', 0.5007158517837524),\n",
              " ('psycho', 0.496582567691803),\n",
              " ('ideadependent', 0.49265965819358826),\n",
              " ('mystery', 0.4901253879070282),\n",
              " ('vein', 0.487085223197937)]"
            ]
          },
          "metadata": {
            "tags": []
          },
          "execution_count": 6
        }
      ]
    },
    {
      "cell_type": "markdown",
      "metadata": {
        "id": "K-TZjOhdRRWH"
      },
      "source": [
        "##### Find the odd word"
      ]
    },
    {
      "cell_type": "code",
      "metadata": {
        "id": "237B215TRRWH",
        "colab": {
          "base_uri": "https://localhost:8080/",
          "height": 89
        },
        "outputId": "fa51e81e-e96a-41b3-e8d1-803d5169a68a"
      },
      "source": [
        "model.wv.doesnt_match('earth space sun beach'.split())"
      ],
      "execution_count": 7,
      "outputs": [
        {
          "output_type": "stream",
          "text": [
            "/usr/local/lib/python3.6/dist-packages/gensim/models/keyedvectors.py:895: FutureWarning: arrays to stack must be passed as a \"sequence\" type such as list or tuple. Support for non-sequence iterables such as generators is deprecated as of NumPy 1.16 and will raise an error in the future.\n",
            "  vectors = vstack(self.word_vec(word, use_norm=True) for word in used_words).astype(REAL)\n"
          ],
          "name": "stderr"
        },
        {
          "output_type": "execute_result",
          "data": {
            "application/vnd.google.colaboratory.intrinsic+json": {
              "type": "string"
            },
            "text/plain": [
              "'beach'"
            ]
          },
          "metadata": {
            "tags": []
          },
          "execution_count": 7
        }
      ]
    },
    {
      "cell_type": "markdown",
      "metadata": {
        "id": "eGv6zDxvRRWI"
      },
      "source": [
        "## Save model in ASCII (word2vec) format"
      ]
    },
    {
      "cell_type": "code",
      "metadata": {
        "id": "yUgoJtwARRWI"
      },
      "source": [
        "filename = 'my_word2vec_model.txt'\r\n",
        "model.wv.save_word2vec_format(filename)"
      ],
      "execution_count": 8,
      "outputs": []
    },
    {
      "cell_type": "markdown",
      "metadata": {
        "id": "fn-h9JadRRWI"
      },
      "source": [
        "## Load the embeddings from the file into a dictionary"
      ]
    },
    {
      "cell_type": "code",
      "metadata": {
        "id": "cYzUIuLtRRWI"
      },
      "source": [
        "import os\r\n",
        "embedding_idx = {} #dictionary\r\n",
        "\r\n",
        "f = open('/content/my_word2vec_model.txt', encoding='utf-8')\r\n",
        "for line in f:\r\n",
        "  values = line.split()\r\n",
        "  word = values[0]\r\n",
        "  coefs = np.asarray(values[1:])\r\n",
        "  embedding_idx[word] = coefs"
      ],
      "execution_count": 9,
      "outputs": []
    },
    {
      "cell_type": "markdown",
      "metadata": {
        "id": "Z_8LxH18RRWJ"
      },
      "source": [
        "**Splitting the data** "
      ]
    },
    {
      "cell_type": "code",
      "metadata": {
        "id": "IGRea4PtRRWJ"
      },
      "source": [
        "from tensorflow.python.keras.preprocessing.text import Tokenizer\n",
        "from tensorflow.python.keras.preprocessing.sequence import pad_sequences\n",
        "import numpy as np"
      ],
      "execution_count": 10,
      "outputs": []
    },
    {
      "cell_type": "markdown",
      "metadata": {
        "id": "gkGSwyCuRRWJ"
      },
      "source": [
        "## Splitting Train data further into Train & Test Sets"
      ]
    },
    {
      "cell_type": "code",
      "metadata": {
        "id": "LA57DSqHRRWK",
        "colab": {
          "base_uri": "https://localhost:8080/"
        },
        "outputId": "1a2c505b-bdd2-42b6-f673-d1a6bc36102d"
      },
      "source": [
        "validation_split = 0.22\r\n",
        "\r\n",
        "tokenizer = Tokenizer()\r\n",
        "tokenizer.fit_on_texts(review_lines)\r\n",
        "sequences = tokenizer.texts_to_sequences(review_lines)\r\n",
        "\r\n",
        "max_len = 125\r\n",
        "word_index = tokenizer.word_index\r\n",
        "\r\n",
        "review_padded = pad_sequences(sequences, maxlen = max_len)\r\n",
        "sentiments = df['sentiment'].values\r\n",
        "\r\n",
        "indices = np.arange(review_padded.shape[0])\r\n",
        "np.random.shuffle(indices)\r\n",
        "\r\n",
        "review_padded = review_padded[indices]\r\n",
        "sentiments = sentiments[indices]\r\n",
        "\r\n",
        "validation_samples = int(validation_split * review_padded.shape[0])\r\n",
        "\r\n",
        "X_val_pad = review_padded[:validation_samples]\r\n",
        "y_val = sentiments[:validation_samples]\r\n",
        "\r\n",
        "X_train_pad = review_padded[validation_samples:]\r\n",
        "y_train = sentiments[validation_samples:]\r\n",
        "\r\n",
        "print(X_train_pad.shape)\r\n",
        "print(X_val_pad.shape)"
      ],
      "execution_count": 11,
      "outputs": [
        {
          "output_type": "stream",
          "text": [
            "(39000, 125)\n",
            "(11000, 125)\n"
          ],
          "name": "stdout"
        }
      ]
    },
    {
      "cell_type": "code",
      "metadata": {
        "id": "91TGH0iERRWK"
      },
      "source": [
        "test_split = 0.13\r\n",
        "\r\n",
        "test_samples = int(test_split * X_train_pad.shape[0])\r\n",
        "\r\n",
        "X_test_pad = X_train_pad[:test_samples]\r\n",
        "y_test = y_train[:test_samples]\r\n",
        "\r\n",
        "X_train_pad = X_train_pad[test_samples:]\r\n",
        "y_train = y_train[test_samples:]"
      ],
      "execution_count": 12,
      "outputs": []
    },
    {
      "cell_type": "markdown",
      "metadata": {
        "id": "HlO9a5FQRRWK"
      },
      "source": [
        "## Creating an Embedding Matrix"
      ]
    },
    {
      "cell_type": "code",
      "metadata": {
        "id": "xm93USUoRRWK"
      },
      "source": [
        "embedding_dims = 128\r\n",
        "num_words = len(word_index) + 1\r\n",
        "\r\n",
        "embedding_matrix = np.zeros((num_words, embedding_dims))\r\n",
        "\r\n",
        "for word, i in word_index.items():\r\n",
        "  if i > num_words:\r\n",
        "    continue\r\n",
        "  embedding_vector = embedding_idx.get(word)\r\n",
        "  if embedding_vector is not None:\r\n",
        "    embedding_matrix[i] = embedding_vector  "
      ],
      "execution_count": 13,
      "outputs": []
    },
    {
      "cell_type": "markdown",
      "metadata": {
        "id": "1F6hLzJERRWL"
      },
      "source": [
        "## Training "
      ]
    },
    {
      "cell_type": "code",
      "metadata": {
        "id": "ZK11ugKeRRWL",
        "colab": {
          "base_uri": "https://localhost:8080/"
        },
        "outputId": "a4ddadfd-9108-4e4e-d1ad-014c323800e9"
      },
      "source": [
        "import tensorflow as tf\n",
        "from keras.models import Sequential\n",
        "from keras.layers import Dense, Embedding, LSTM\n",
        "from keras.layers.embeddings import Embedding\n",
        "from keras.initializers import Constant\n",
        "\n",
        "embedding_layer = Embedding(num_words, embedding_dims,\n",
        "                            embeddings_initializer = Constant(embedding_matrix),\n",
        "                            input_length = max_len,\n",
        "                            trainable = False) \n",
        "\n",
        "model = Sequential([\n",
        "        embedding_layer,\n",
        "        LSTM(embedding_dims, dropout = 0.4),\n",
        "        Dense(128, activation= 'relu'),\n",
        "        Dense(1, activation= 'sigmoid')\n",
        "])\n",
        "\n",
        "model.compile(optimizer = 'adam', loss = 'binary_crossentropy', metrics = ['accuracy'])\n",
        "model.summary()"
      ],
      "execution_count": 22,
      "outputs": [
        {
          "output_type": "stream",
          "text": [
            "Model: \"sequential_2\"\n",
            "_________________________________________________________________\n",
            "Layer (type)                 Output Shape              Param #   \n",
            "=================================================================\n",
            "embedding_2 (Embedding)      (None, 125, 128)          17172096  \n",
            "_________________________________________________________________\n",
            "lstm_2 (LSTM)                (None, 128)               131584    \n",
            "_________________________________________________________________\n",
            "dense_4 (Dense)              (None, 128)               16512     \n",
            "_________________________________________________________________\n",
            "dense_5 (Dense)              (None, 1)                 129       \n",
            "=================================================================\n",
            "Total params: 17,320,321\n",
            "Trainable params: 148,225\n",
            "Non-trainable params: 17,172,096\n",
            "_________________________________________________________________\n"
          ],
          "name": "stdout"
        }
      ]
    },
    {
      "cell_type": "markdown",
      "metadata": {
        "id": "IpWHXjMVRRWL"
      },
      "source": [
        "## Training the Model\n",
        "\n",
        "Use the .fit method.\n",
        "\n",
        "Assign the model.fit() method to a variable, which will store the Training, Validation Loss and Accuracy for each epoch. "
      ]
    },
    {
      "cell_type": "code",
      "metadata": {
        "id": "wsr_iNPpRRWM",
        "colab": {
          "base_uri": "https://localhost:8080/"
        },
        "outputId": "9a8d05cb-509b-49a4-8c11-b0f9412720fb"
      },
      "source": [
        "history = model.fit(X_train_pad, y_train, epochs = 16, validation_data=(X_val_pad, y_val), batch_size = 64)"
      ],
      "execution_count": 23,
      "outputs": [
        {
          "output_type": "stream",
          "text": [
            "Epoch 1/16\n",
            "531/531 [==============================] - 8s 12ms/step - loss: 0.5050 - accuracy: 0.7489 - val_loss: 0.3506 - val_accuracy: 0.8506\n",
            "Epoch 2/16\n",
            "531/531 [==============================] - 6s 12ms/step - loss: 0.3447 - accuracy: 0.8492 - val_loss: 0.3349 - val_accuracy: 0.8652\n",
            "Epoch 3/16\n",
            "531/531 [==============================] - 6s 11ms/step - loss: 0.3202 - accuracy: 0.8607 - val_loss: 0.3189 - val_accuracy: 0.8659\n",
            "Epoch 4/16\n",
            "531/531 [==============================] - 6s 11ms/step - loss: 0.3014 - accuracy: 0.8698 - val_loss: 0.3009 - val_accuracy: 0.8723\n",
            "Epoch 5/16\n",
            "531/531 [==============================] - 6s 12ms/step - loss: 0.2841 - accuracy: 0.8785 - val_loss: 0.2822 - val_accuracy: 0.8779\n",
            "Epoch 6/16\n",
            "531/531 [==============================] - 6s 11ms/step - loss: 0.2786 - accuracy: 0.8829 - val_loss: 0.2886 - val_accuracy: 0.8839\n",
            "Epoch 7/16\n",
            "531/531 [==============================] - 6s 12ms/step - loss: 0.2607 - accuracy: 0.8894 - val_loss: 0.2887 - val_accuracy: 0.8782\n",
            "Epoch 8/16\n",
            "531/531 [==============================] - 6s 11ms/step - loss: 0.2511 - accuracy: 0.8942 - val_loss: 0.2920 - val_accuracy: 0.8832\n",
            "Epoch 9/16\n",
            "531/531 [==============================] - 6s 11ms/step - loss: 0.2328 - accuracy: 0.9038 - val_loss: 0.2937 - val_accuracy: 0.8822\n",
            "Epoch 10/16\n",
            "531/531 [==============================] - 6s 12ms/step - loss: 0.2225 - accuracy: 0.9070 - val_loss: 0.3025 - val_accuracy: 0.8773\n",
            "Epoch 11/16\n",
            "531/531 [==============================] - 6s 11ms/step - loss: 0.2214 - accuracy: 0.9073 - val_loss: 0.2951 - val_accuracy: 0.8820\n",
            "Epoch 12/16\n",
            "531/531 [==============================] - 6s 12ms/step - loss: 0.2036 - accuracy: 0.9142 - val_loss: 0.3095 - val_accuracy: 0.8851\n",
            "Epoch 13/16\n",
            "531/531 [==============================] - 6s 12ms/step - loss: 0.1968 - accuracy: 0.9185 - val_loss: 0.3046 - val_accuracy: 0.8821\n",
            "Epoch 14/16\n",
            "531/531 [==============================] - 6s 12ms/step - loss: 0.1904 - accuracy: 0.9196 - val_loss: 0.2990 - val_accuracy: 0.8799\n",
            "Epoch 15/16\n",
            "531/531 [==============================] - 6s 11ms/step - loss: 0.1866 - accuracy: 0.9210 - val_loss: 0.3261 - val_accuracy: 0.8818\n",
            "Epoch 16/16\n",
            "531/531 [==============================] - 6s 12ms/step - loss: 0.1789 - accuracy: 0.9256 - val_loss: 0.3267 - val_accuracy: 0.8827\n"
          ],
          "name": "stdout"
        }
      ]
    },
    {
      "cell_type": "markdown",
      "metadata": {
        "id": "5DRia4JURRWM"
      },
      "source": [
        "## Evaluating the Model on Test Set\n",
        "\n"
      ]
    },
    {
      "cell_type": "code",
      "metadata": {
        "id": "Gt4FU_FTRRWM",
        "colab": {
          "base_uri": "https://localhost:8080/"
        },
        "outputId": "3d31c421-7aed-4455-9f1e-6e06b7238b08"
      },
      "source": [
        "model.evaluate(X_test_pad, y_test, batch_size = 64)"
      ],
      "execution_count": 18,
      "outputs": [
        {
          "output_type": "stream",
          "text": [
            "80/80 [==============================] - 1s 10ms/step - loss: 0.3388 - accuracy: 0.8757\n"
          ],
          "name": "stdout"
        },
        {
          "output_type": "execute_result",
          "data": {
            "text/plain": [
              "[0.33878880739212036, 0.8757396340370178]"
            ]
          },
          "metadata": {
            "tags": []
          },
          "execution_count": 18
        }
      ]
    },
    {
      "cell_type": "markdown",
      "metadata": {
        "id": "_XNMG7nFRRWM"
      },
      "source": [
        "## Plotting the Accuracy and Loss "
      ]
    },
    {
      "cell_type": "code",
      "metadata": {
        "id": "riD1_GxORRWN",
        "colab": {
          "base_uri": "https://localhost:8080/",
          "height": 562
        },
        "outputId": "d545d8e1-f4b9-4526-b839-8611a81a87b5"
      },
      "source": [
        "acc = history.history['accuracy' ]\r\n",
        "val_acc = history.history['val_accuracy' ]\r\n",
        "loss = history.history['loss' ]\r\n",
        "val_loss = history.history['val_loss']\r\n",
        "\r\n",
        "epochs = range(len(acc)) # Get number of epochs\r\n",
        "\r\n",
        "#------------------------------------------------\r\n",
        "# Plot training and validation accuracy per epoch\r\n",
        "#------------------------------------------------\r\n",
        "plt.plot(epochs, acc )\r\n",
        "plt.plot  (epochs, val_acc )\r\n",
        "plt.title ('Training and validation accuracy')\r\n",
        "plt.figure()\r\n",
        "\r\n",
        "#------------------------------------------------\r\n",
        "# Plot training and validation loss per epoch\r\n",
        "#------------------------------------------------\r\n",
        "plt.plot  (epochs, loss )\r\n",
        "plt.plot  ( epochs, val_loss)\r\n",
        "plt.title ('Training and validation loss')"
      ],
      "execution_count": 19,
      "outputs": [
        {
          "output_type": "execute_result",
          "data": {
            "text/plain": [
              "Text(0.5, 1.0, 'Training and validation loss')"
            ]
          },
          "metadata": {
            "tags": []
          },
          "execution_count": 19
        },
        {
          "output_type": "display_data",
          "data": {
            "image/png": "[encoded data removed]",
            "text/plain": [
              "<Figure size 432x288 with 1 Axes>"
            ]
          },
          "metadata": {
            "tags": [],
            "needs_background": "light"
          }
        },
        {
          "output_type": "display_data",
          "data": {
            "image/png": "[encoded data removed]",
            "text/plain": [
              "<Figure size 432x288 with 1 Axes>"
            ]
          },
          "metadata": {
            "tags": [],
            "needs_background": "light"
          }
        }
      ]
    },
    {
      "cell_type": "markdown",
      "metadata": {
        "id": "rl8idABfRRWN"
      },
      "source": [
        "## Testing the Model on Sample data\n"
      ]
    },
    {
      "cell_type": "code",
      "metadata": {
        "id": "TpI1pl-dRRWN",
        "colab": {
          "base_uri": "https://localhost:8080/"
        },
        "outputId": "480ffd14-7ce8-4cb6-cc2b-64f938ba77d7"
      },
      "source": [
        "sample1 = 'The movie was quite decent!'\r\n",
        "sample2 = 'I do not know what to say... It was the worst!'\r\n",
        "\r\n",
        "test_samples = [sample1, sample2]\r\n",
        "\r\n",
        "test_samples_token = tokenizer.texts_to_sequences(test_samples)\r\n",
        "test_samples_token_padded = pad_sequences(test_samples_token, maxlen = 100)\r\n",
        "\r\n",
        "model.predict(test_samples_token_padded)"
      ],
      "execution_count": 20,
      "outputs": [
        {
          "output_type": "stream",
          "text": [
            "WARNING:tensorflow:Model was constructed with shape (None, 125) for input KerasTensor(type_spec=TensorSpec(shape=(None, 125), dtype=tf.float32, name='embedding_1_input'), name='embedding_1_input', description=\"created by layer 'embedding_1_input'\"), but it was called on an input with incompatible shape (None, 100).\n"
          ],
          "name": "stdout"
        },
        {
          "output_type": "execute_result",
          "data": {
            "text/plain": [
              "array([[0.5624525 ],\n",
              "       [0.00376312]], dtype=float32)"
            ]
          },
          "metadata": {
            "tags": []
          },
          "execution_count": 20
        }
      ]
    }
  ]
}