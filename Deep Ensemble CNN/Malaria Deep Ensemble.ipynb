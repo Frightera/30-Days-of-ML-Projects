{
  "nbformat": 4,
  "nbformat_minor": 0,
  "metadata": {
    "kernelspec": {
      "display_name": "Python 3",
      "language": "python",
      "name": "python3"
    },
    "language_info": {
      "codemirror_mode": {
        "name": "ipython",
        "version": 3
      },
      "file_extension": ".py",
      "mimetype": "text/x-python",
      "name": "python",
      "nbconvert_exporter": "python",
      "pygments_lexer": "ipython3",
      "version": "3.6.9"
    },
    "colab": {
      "name": "MalariaML.ipynb",
      "provenance": [],
      "collapsed_sections": []
    },
    "accelerator": "GPU"
  },
  "cells": [
    {
      "cell_type": "markdown",
      "metadata": {
        "id": "Sxnr6cEa3bds"
      },
      "source": [
        "# Malaria Parasite Detection Using Ensemble Learning in TF-Keras"
      ]
    },
    {
      "cell_type": "markdown",
      "metadata": {
        "id": "94bk3Do33bd8"
      },
      "source": [
        "## Loading the cell image data"
      ]
    },
    {
      "cell_type": "markdown",
      "metadata": {
        "id": "Lz8_1Mvb3bd-"
      },
      "source": [
        "Ensemble learning combines the predictions of multiple models to improve the prediction accuracy.\n",
        "\n",
        "There are several ways to perform ensemble learning, and a reasonable summary is available on https://en.wikipedia.org/wiki/Ensemble_learning. Simply speaking, there are two major classes of ensemble learning:\n",
        "- Bagging: fit independent models and then average their predictions\n",
        "- Boosting: fit several models sequencially and then average their predictions\n",
        "\n",
        "Dataset: https://www.tensorflow.org/datasets/catalog/malaria"
      ]
    },
    {
      "cell_type": "code",
      "metadata": {
        "id": "qhSKsZUA4zzw"
      },
      "source": [
        "!wget \"https://ceb.nlm.nih.gov/proj/malaria/cell_images.zip\""
      ],
      "execution_count": null,
      "outputs": []
    },
    {
      "cell_type": "code",
      "metadata": {
        "id": "-UlSh8sX5Apo"
      },
      "source": [
        "!unzip \"/content/cell_images.zip\""
      ],
      "execution_count": null,
      "outputs": []
    },
    {
      "cell_type": "code",
      "metadata": {
        "id": "6NW5hejA3bd_"
      },
      "source": [
        "import statistics\n",
        "import os\n",
        "import glob\n",
        "import numpy as np\n",
        "import pandas as pd\n",
        "from concurrent import futures\n",
        "import threading\n",
        "import shutil\n",
        "\n",
        "import tensorflow as tf\n",
        "from tensorflow.keras.optimizers import SGD, Adam\n",
        "from tensorflow.keras.layers import Conv2D, Activation, Dense, MaxPooling2D, Flatten, Dropout, BatchNormalization\n",
        "from tensorflow.keras.models import Sequential\n",
        "\n",
        "import sklearn\n",
        "import itertools\n",
        "import seaborn as sns\n",
        "from sklearn.metrics import f1_score, confusion_matrix, accuracy_score, precision_score, recall_score, classification_report\n",
        "\n",
        "import matplotlib.pyplot as plt\n",
        "import matplotlib.image as mpimg "
      ],
      "execution_count": null,
      "outputs": []
    },
    {
      "cell_type": "markdown",
      "metadata": {
        "id": "P9eEUQ943beB"
      },
      "source": [
        "Next, we load the data. \n",
        "- File names are obtained using the glob module.\n",
        "- Create a data frame object for infected and healthy cell images\n",
        "- Check how many of each class are there in the sample; we should be close to 50/50"
      ]
    },
    {
      "cell_type": "code",
      "metadata": {
        "colab": {
          "base_uri": "https://localhost:8080/"
        },
        "id": "aLm0JW293beC",
        "outputId": "654e3a34-a753-4a5f-b9e9-4bfd8a64066b"
      },
      "source": [
        "infected = '/content/cell_images/Parasitized'\r\n",
        "healthy = '/content/cell_images/Uninfected'\r\n",
        "\r\n",
        "infected_files = glob.glob(infected+'/*.png')\r\n",
        "healthy_files = glob.glob(healthy+'/*.png')\r\n",
        "\r\n",
        "files_df = pd.DataFrame({\r\n",
        "    'img': infected_files + healthy_files,\r\n",
        "    'malaria': [1] * len(infected_files) + [0] * len(healthy_files)\r\n",
        "})\r\n",
        "\r\n",
        "files_df = files_df.sample(frac=1, random_state=42).reset_index(drop=True)\r\n",
        "\r\n",
        "files_df['malaria'].value_counts()"
      ],
      "execution_count": null,
      "outputs": [
        {
          "output_type": "execute_result",
          "data": {
            "text/plain": [
              "1    13779\n",
              "0    13779\n",
              "Name: malaria, dtype: int64"
            ]
          },
          "metadata": {
            "tags": []
          },
          "execution_count": 4
        }
      ]
    },
    {
      "cell_type": "markdown",
      "metadata": {
        "id": "LM2J7sYZ3beD"
      },
      "source": [
        "## Split Data Into Folders for Imagedatagenerator"
      ]
    },
    {
      "cell_type": "code",
      "metadata": {
        "colab": {
          "base_uri": "https://localhost:8080/"
        },
        "id": "k2e97fPI3beF",
        "outputId": "e228f670-a525-48c4-efce-1a5760ca8ff8"
      },
      "source": [
        "root_dir = '/content/cell_images'\r\n",
        "classes_dir = ['/Parasitized', '/Uninfected']\r\n",
        "\r\n",
        "val_ratio = 0.30\r\n",
        "test_ratio = 0.10\r\n",
        "\r\n",
        "for cls in classes_dir:\r\n",
        "    os.makedirs(root_dir +'/train' + cls)\r\n",
        "    os.makedirs(root_dir +'/val' + cls)\r\n",
        "    os.makedirs(root_dir +'/test' + cls)\r\n",
        "\r\n",
        "    # Creating partitions of the data after shuffling\r\n",
        "    src = '/content/cell_images' + cls # Folder to copy images from\r\n",
        "\r\n",
        "    allFileNames = os.listdir(src)\r\n",
        "    np.random.shuffle(allFileNames)\r\n",
        "    train_FileNames, val_FileNames, test_FileNames = np.split(np.array(allFileNames),\r\n",
        "                                                              [int(len(allFileNames)* (1 - val_ratio + test_ratio)),\r\n",
        "                                                               int(len(allFileNames)* (1 - test_ratio))])\r\n",
        "\r\n",
        "    train_FileNames = [src+'/'+ name for name in train_FileNames.tolist()]\r\n",
        "    val_FileNames = [src+'/' + name for name in val_FileNames.tolist()]\r\n",
        "    test_FileNames = [src+'/' + name for name in test_FileNames.tolist()]\r\n",
        "\r\n",
        "    print('Total images: ', len(allFileNames))\r\n",
        "    print('Training: ', len(train_FileNames))\r\n",
        "    print('Validation: ', len(val_FileNames))\r\n",
        "    print('Testing: ', len(test_FileNames))\r\n",
        "\r\n",
        "    # Copy-pasting images\r\n",
        "    for name in train_FileNames:\r\n",
        "        shutil.copy(name, root_dir +'/train' + cls)\r\n",
        "\r\n",
        "    for name in val_FileNames:\r\n",
        "        shutil.copy(name, root_dir +'/val' + cls)\r\n",
        "\r\n",
        "    for name in test_FileNames:\r\n",
        "        shutil.copy(name, root_dir +'/test' + cls)\r\n",
        "\r\n"
      ],
      "execution_count": null,
      "outputs": [
        {
          "output_type": "stream",
          "text": [
            "Total images:  13780\n",
            "Training:  11023\n",
            "Validation:  1379\n",
            "Testing:  1378\n",
            "Total images:  13780\n",
            "Training:  11023\n",
            "Validation:  1379\n",
            "Testing:  1378\n"
          ],
          "name": "stdout"
        }
      ]
    },
    {
      "cell_type": "code",
      "metadata": {
        "colab": {
          "base_uri": "https://localhost:8080/",
          "height": 286
        },
        "id": "eD8-C5uk8iw8",
        "outputId": "459620f8-e83e-4032-b1ed-ca2effb80cd5"
      },
      "source": [
        "img = mpimg.imread('/content/cell_images/test/Parasitized/C100P61ThinF_IMG_20150918_144104_cell_164.png') \r\n",
        "plt.imshow(img) "
      ],
      "execution_count": null,
      "outputs": [
        {
          "output_type": "execute_result",
          "data": {
            "text/plain": [
              "<matplotlib.image.AxesImage at 0x7fc2d2b98e80>"
            ]
          },
          "metadata": {
            "tags": []
          },
          "execution_count": 9
        },
        {
          "output_type": "display_data",
          "data": {
            "image/png": "[encoded data removed]",
            "text/plain": [
              "<Figure size 432x288 with 1 Axes>"
            ]
          },
          "metadata": {
            "tags": [],
            "needs_background": "light"
          }
        }
      ]
    },
    {
      "cell_type": "code",
      "metadata": {
        "colab": {
          "base_uri": "https://localhost:8080/"
        },
        "id": "NA1sUPMb9TVn",
        "outputId": "a8bfbb55-49cf-4d75-cd69-f237c31f8561"
      },
      "source": [
        "img.shape"
      ],
      "execution_count": null,
      "outputs": [
        {
          "output_type": "execute_result",
          "data": {
            "text/plain": [
              "(151, 139, 3)"
            ]
          },
          "metadata": {
            "tags": []
          },
          "execution_count": 10
        }
      ]
    },
    {
      "cell_type": "code",
      "metadata": {
        "colab": {
          "base_uri": "https://localhost:8080/"
        },
        "id": "vlw8SOkt9XFQ",
        "outputId": "ab540811-e671-4561-c258-7372364f0355"
      },
      "source": [
        "from tensorflow.keras.preprocessing.image import ImageDataGenerator\r\n",
        "\r\n",
        "train_gen = ImageDataGenerator(rescale=1/255.0,\r\n",
        "                                     width_shift_range=0.15,\r\n",
        "                                     height_shift_range=0.15,\r\n",
        "                                     zoom_range=0.2,\r\n",
        "                                     fill_mode = 'nearest')  \r\n",
        "train_dir = \"/content/cell_images/train\"\r\n",
        "train_dataset = train_gen.flow_from_directory(batch_size=64,\r\n",
        "                                                 directory=train_dir,\r\n",
        "                                                 shuffle=True,\r\n",
        "                                                 color_mode = 'rgb',\r\n",
        "                                                 target_size=(125, 125), \r\n",
        "                                                 class_mode='categorical')\r\n",
        "\r\n",
        "validation_gen = ImageDataGenerator(rescale=1/255.0)\r\n",
        "validation_dir = \"/content/cell_images/val\"\r\n",
        "validation_dataset = validation_gen.flow_from_directory(batch_size=64,\r\n",
        "                                                 directory=validation_dir,\r\n",
        "                                                 shuffle=True,\r\n",
        "                                                 color_mode = 'rgb',\r\n",
        "                                                 target_size=(125, 125), \r\n",
        "                                                 class_mode='categorical')\r\n",
        "test_datagen = ImageDataGenerator(rescale=1./255)\r\n",
        "test_dir = \"/content/cell_images/test\"\r\n",
        "test_generator = test_datagen.flow_from_directory(\r\n",
        "        test_dir,\r\n",
        "        target_size=(125, 125),\r\n",
        "        color_mode=\"rgb\",\r\n",
        "        shuffle = False,\r\n",
        "        class_mode='categorical',\r\n",
        "        batch_size=1)"
      ],
      "execution_count": null,
      "outputs": [
        {
          "output_type": "stream",
          "text": [
            "Found 22044 images belonging to 2 classes.\n",
            "Found 2758 images belonging to 2 classes.\n",
            "Found 2756 images belonging to 2 classes.\n"
          ],
          "name": "stdout"
        }
      ]
    },
    {
      "cell_type": "markdown",
      "metadata": {
        "id": "nuJtiDub3beF"
      },
      "source": [
        "## Deep Ensemble CNN"
      ]
    },
    {
      "cell_type": "markdown",
      "metadata": {
        "id": "YMDyfNZ43beH"
      },
      "source": [
        "Time to start doing deep learning to predict the presence or absence of malaria in cell images.\n",
        "\n",
        "We will be experimenting with a deep ensemble CNN which has the following architecture: \n",
        "* VGG19 - Xception - Average Layer\n",
        "\n",
        "\n",
        "The Adam optimizer will be used with a learning rate of 0.0001."
      ]
    },
    {
      "cell_type": "code",
      "metadata": {
        "colab": {
          "base_uri": "https://localhost:8080/"
        },
        "id": "Zr0F-VMW3beI",
        "outputId": "9e87e84b-2b4f-44b8-9b96-611a18a704d5"
      },
      "source": [
        "vgg19 = tf.keras.applications.VGG19(include_top=False, input_shape=(125,125,3), weights='imagenet')\r\n",
        "\r\n",
        "for layer in vgg19.layers:\r\n",
        "  layer.trainable = False\r\n",
        "\r\n",
        "vgg19.summary()"
      ],
      "execution_count": null,
      "outputs": [
        {
          "output_type": "stream",
          "text": [
            "Downloading data from https://storage.googleapis.com/tensorflow/keras-applications/vgg19/vgg19_weights_tf_dim_ordering_tf_kernels_notop.h5\n",
            "80142336/80134624 [==============================] - 0s 0us/step\n",
            "Model: \"vgg19\"\n",
            "_________________________________________________________________\n",
            "Layer (type)                 Output Shape              Param #   \n",
            "=================================================================\n",
            "input_1 (InputLayer)         [(None, 125, 125, 3)]     0         \n",
            "_________________________________________________________________\n",
            "block1_conv1 (Conv2D)        (None, 125, 125, 64)      1792      \n",
            "_________________________________________________________________\n",
            "block1_conv2 (Conv2D)        (None, 125, 125, 64)      36928     \n",
            "_________________________________________________________________\n",
            "block1_pool (MaxPooling2D)   (None, 62, 62, 64)        0         \n",
            "_________________________________________________________________\n",
            "block2_conv1 (Conv2D)        (None, 62, 62, 128)       73856     \n",
            "_________________________________________________________________\n",
            "block2_conv2 (Conv2D)        (None, 62, 62, 128)       147584    \n",
            "_________________________________________________________________\n",
            "block2_pool (MaxPooling2D)   (None, 31, 31, 128)       0         \n",
            "_________________________________________________________________\n",
            "block3_conv1 (Conv2D)        (None, 31, 31, 256)       295168    \n",
            "_________________________________________________________________\n",
            "block3_conv2 (Conv2D)        (None, 31, 31, 256)       590080    \n",
            "_________________________________________________________________\n",
            "block3_conv3 (Conv2D)        (None, 31, 31, 256)       590080    \n",
            "_________________________________________________________________\n",
            "block3_conv4 (Conv2D)        (None, 31, 31, 256)       590080    \n",
            "_________________________________________________________________\n",
            "block3_pool (MaxPooling2D)   (None, 15, 15, 256)       0         \n",
            "_________________________________________________________________\n",
            "block4_conv1 (Conv2D)        (None, 15, 15, 512)       1180160   \n",
            "_________________________________________________________________\n",
            "block4_conv2 (Conv2D)        (None, 15, 15, 512)       2359808   \n",
            "_________________________________________________________________\n",
            "block4_conv3 (Conv2D)        (None, 15, 15, 512)       2359808   \n",
            "_________________________________________________________________\n",
            "block4_conv4 (Conv2D)        (None, 15, 15, 512)       2359808   \n",
            "_________________________________________________________________\n",
            "block4_pool (MaxPooling2D)   (None, 7, 7, 512)         0         \n",
            "_________________________________________________________________\n",
            "block5_conv1 (Conv2D)        (None, 7, 7, 512)         2359808   \n",
            "_________________________________________________________________\n",
            "block5_conv2 (Conv2D)        (None, 7, 7, 512)         2359808   \n",
            "_________________________________________________________________\n",
            "block5_conv3 (Conv2D)        (None, 7, 7, 512)         2359808   \n",
            "_________________________________________________________________\n",
            "block5_conv4 (Conv2D)        (None, 7, 7, 512)         2359808   \n",
            "_________________________________________________________________\n",
            "block5_pool (MaxPooling2D)   (None, 3, 3, 512)         0         \n",
            "=================================================================\n",
            "Total params: 20,024,384\n",
            "Trainable params: 0\n",
            "Non-trainable params: 20,024,384\n",
            "_________________________________________________________________\n"
          ],
          "name": "stdout"
        }
      ]
    },
    {
      "cell_type": "code",
      "metadata": {
        "id": "Kp-L2G61BDks"
      },
      "source": [
        "vgg19_out = vgg19.get_layer('block3_pool').output\r\n",
        "\r\n",
        "x = Conv2D(512, (3,3), kernel_initializer='he_uniform', bias_initializer='ones', \r\n",
        "           activation= tf.keras.layers.LeakyReLU(alpha = 0.24),padding = 'same')(vgg19_out)\r\n",
        "x = BatchNormalization(momentum = 0.99)(x)\r\n",
        "x = MaxPooling2D(pool_size=(2,2))(x)\r\n",
        "\r\n",
        "x = Dropout(0.5)(x)\r\n",
        "\r\n",
        "x = Conv2D(512, (3,3), kernel_initializer='he_uniform', bias_initializer='zeros', \r\n",
        "           activation= tf.keras.layers.LeakyReLU(alpha = 0.24),padding = 'same')(x)\r\n",
        "x = BatchNormalization(momentum = 0.99)(x)\r\n",
        "x = MaxPooling2D(pool_size=(2,2))(x)\r\n",
        "\r\n",
        "x = Dropout(0.5)(x)\r\n",
        "x = tf.keras.layers.Flatten()(x)\r\n",
        "\r\n",
        "x = Dense(256, activation= 'relu')(x)\r\n",
        "x = Dropout(0.3)(x)\r\n",
        "x = Dense(128, activation= 'relu')(x)\r\n",
        "x = Dropout(0.2)(x)\r\n",
        "\r\n",
        "output_vgg = Dense(2, activation = 'softmax')(x)\r\n",
        "\r\n",
        "model_vgg = tf.keras.models.Model(inputs = vgg19.input, outputs = output_vgg)"
      ],
      "execution_count": null,
      "outputs": []
    },
    {
      "cell_type": "code",
      "metadata": {
        "colab": {
          "base_uri": "https://localhost:8080/"
        },
        "id": "8VHtcXPEBR4d",
        "outputId": "b1d62533-e071-4b1b-d691-fae395dc9364"
      },
      "source": [
        "xception = tf.keras.applications.Xception(include_top=False, input_shape=(125,125,3), weights='imagenet')\r\n",
        "\r\n",
        "for layer in xception.layers:\r\n",
        "  layer.trainable = False\r\n",
        "\r\n",
        "xception.summary()"
      ],
      "execution_count": null,
      "outputs": [
        {
          "output_type": "stream",
          "text": [
            "Downloading data from https://storage.googleapis.com/tensorflow/keras-applications/xception/xception_weights_tf_dim_ordering_tf_kernels_notop.h5\n",
            "83689472/83683744 [==============================] - 1s 0us/step\n",
            "Model: \"xception\"\n",
            "__________________________________________________________________________________________________\n",
            "Layer (type)                    Output Shape         Param #     Connected to                     \n",
            "==================================================================================================\n",
            "input_2 (InputLayer)            [(None, 125, 125, 3) 0                                            \n",
            "__________________________________________________________________________________________________\n",
            "block1_conv1 (Conv2D)           (None, 62, 62, 32)   864         input_2[0][0]                    \n",
            "__________________________________________________________________________________________________\n",
            "block1_conv1_bn (BatchNormaliza (None, 62, 62, 32)   128         block1_conv1[0][0]               \n",
            "__________________________________________________________________________________________________\n",
            "block1_conv1_act (Activation)   (None, 62, 62, 32)   0           block1_conv1_bn[0][0]            \n",
            "__________________________________________________________________________________________________\n",
            "block1_conv2 (Conv2D)           (None, 60, 60, 64)   18432       block1_conv1_act[0][0]           \n",
            "__________________________________________________________________________________________________\n",
            "block1_conv2_bn (BatchNormaliza (None, 60, 60, 64)   256         block1_conv2[0][0]               \n",
            "__________________________________________________________________________________________________\n",
            "block1_conv2_act (Activation)   (None, 60, 60, 64)   0           block1_conv2_bn[0][0]            \n",
            "__________________________________________________________________________________________________\n",
            "block2_sepconv1 (SeparableConv2 (None, 60, 60, 128)  8768        block1_conv2_act[0][0]           \n",
            "__________________________________________________________________________________________________\n",
            "block2_sepconv1_bn (BatchNormal (None, 60, 60, 128)  512         block2_sepconv1[0][0]            \n",
            "__________________________________________________________________________________________________\n",
            "block2_sepconv2_act (Activation (None, 60, 60, 128)  0           block2_sepconv1_bn[0][0]         \n",
            "__________________________________________________________________________________________________\n",
            "block2_sepconv2 (SeparableConv2 (None, 60, 60, 128)  17536       block2_sepconv2_act[0][0]        \n",
            "__________________________________________________________________________________________________\n",
            "block2_sepconv2_bn (BatchNormal (None, 60, 60, 128)  512         block2_sepconv2[0][0]            \n",
            "__________________________________________________________________________________________________\n",
            "conv2d_17 (Conv2D)              (None, 30, 30, 128)  8192        block1_conv2_act[0][0]           \n",
            "__________________________________________________________________________________________________\n",
            "block2_pool (MaxPooling2D)      (None, 30, 30, 128)  0           block2_sepconv2_bn[0][0]         \n",
            "__________________________________________________________________________________________________\n",
            "batch_normalization_3 (BatchNor (None, 30, 30, 128)  512         conv2d_17[0][0]                  \n",
            "__________________________________________________________________________________________________\n",
            "add (Add)                       (None, 30, 30, 128)  0           block2_pool[0][0]                \n",
            "                                                                 batch_normalization_3[0][0]      \n",
            "__________________________________________________________________________________________________\n",
            "block3_sepconv1_act (Activation (None, 30, 30, 128)  0           add[0][0]                        \n",
            "__________________________________________________________________________________________________\n",
            "block3_sepconv1 (SeparableConv2 (None, 30, 30, 256)  33920       block3_sepconv1_act[0][0]        \n",
            "__________________________________________________________________________________________________\n",
            "block3_sepconv1_bn (BatchNormal (None, 30, 30, 256)  1024        block3_sepconv1[0][0]            \n",
            "__________________________________________________________________________________________________\n",
            "block3_sepconv2_act (Activation (None, 30, 30, 256)  0           block3_sepconv1_bn[0][0]         \n",
            "__________________________________________________________________________________________________\n",
            "block3_sepconv2 (SeparableConv2 (None, 30, 30, 256)  67840       block3_sepconv2_act[0][0]        \n",
            "__________________________________________________________________________________________________\n",
            "block3_sepconv2_bn (BatchNormal (None, 30, 30, 256)  1024        block3_sepconv2[0][0]            \n",
            "__________________________________________________________________________________________________\n",
            "conv2d_18 (Conv2D)              (None, 15, 15, 256)  32768       add[0][0]                        \n",
            "__________________________________________________________________________________________________\n",
            "block3_pool (MaxPooling2D)      (None, 15, 15, 256)  0           block3_sepconv2_bn[0][0]         \n",
            "__________________________________________________________________________________________________\n",
            "batch_normalization_4 (BatchNor (None, 15, 15, 256)  1024        conv2d_18[0][0]                  \n",
            "__________________________________________________________________________________________________\n",
            "add_1 (Add)                     (None, 15, 15, 256)  0           block3_pool[0][0]                \n",
            "                                                                 batch_normalization_4[0][0]      \n",
            "__________________________________________________________________________________________________\n",
            "block4_sepconv1_act (Activation (None, 15, 15, 256)  0           add_1[0][0]                      \n",
            "__________________________________________________________________________________________________\n",
            "block4_sepconv1 (SeparableConv2 (None, 15, 15, 728)  188672      block4_sepconv1_act[0][0]        \n",
            "__________________________________________________________________________________________________\n",
            "block4_sepconv1_bn (BatchNormal (None, 15, 15, 728)  2912        block4_sepconv1[0][0]            \n",
            "__________________________________________________________________________________________________\n",
            "block4_sepconv2_act (Activation (None, 15, 15, 728)  0           block4_sepconv1_bn[0][0]         \n",
            "__________________________________________________________________________________________________\n",
            "block4_sepconv2 (SeparableConv2 (None, 15, 15, 728)  536536      block4_sepconv2_act[0][0]        \n",
            "__________________________________________________________________________________________________\n",
            "block4_sepconv2_bn (BatchNormal (None, 15, 15, 728)  2912        block4_sepconv2[0][0]            \n",
            "__________________________________________________________________________________________________\n",
            "conv2d_19 (Conv2D)              (None, 8, 8, 728)    186368      add_1[0][0]                      \n",
            "__________________________________________________________________________________________________\n",
            "block4_pool (MaxPooling2D)      (None, 8, 8, 728)    0           block4_sepconv2_bn[0][0]         \n",
            "__________________________________________________________________________________________________\n",
            "batch_normalization_5 (BatchNor (None, 8, 8, 728)    2912        conv2d_19[0][0]                  \n",
            "__________________________________________________________________________________________________\n",
            "add_2 (Add)                     (None, 8, 8, 728)    0           block4_pool[0][0]                \n",
            "                                                                 batch_normalization_5[0][0]      \n",
            "__________________________________________________________________________________________________\n",
            "block5_sepconv1_act (Activation (None, 8, 8, 728)    0           add_2[0][0]                      \n",
            "__________________________________________________________________________________________________\n",
            "block5_sepconv1 (SeparableConv2 (None, 8, 8, 728)    536536      block5_sepconv1_act[0][0]        \n",
            "__________________________________________________________________________________________________\n",
            "block5_sepconv1_bn (BatchNormal (None, 8, 8, 728)    2912        block5_sepconv1[0][0]            \n",
            "__________________________________________________________________________________________________\n",
            "block5_sepconv2_act (Activation (None, 8, 8, 728)    0           block5_sepconv1_bn[0][0]         \n",
            "__________________________________________________________________________________________________\n",
            "block5_sepconv2 (SeparableConv2 (None, 8, 8, 728)    536536      block5_sepconv2_act[0][0]        \n",
            "__________________________________________________________________________________________________\n",
            "block5_sepconv2_bn (BatchNormal (None, 8, 8, 728)    2912        block5_sepconv2[0][0]            \n",
            "__________________________________________________________________________________________________\n",
            "block5_sepconv3_act (Activation (None, 8, 8, 728)    0           block5_sepconv2_bn[0][0]         \n",
            "__________________________________________________________________________________________________\n",
            "block5_sepconv3 (SeparableConv2 (None, 8, 8, 728)    536536      block5_sepconv3_act[0][0]        \n",
            "__________________________________________________________________________________________________\n",
            "block5_sepconv3_bn (BatchNormal (None, 8, 8, 728)    2912        block5_sepconv3[0][0]            \n",
            "__________________________________________________________________________________________________\n",
            "add_3 (Add)                     (None, 8, 8, 728)    0           block5_sepconv3_bn[0][0]         \n",
            "                                                                 add_2[0][0]                      \n",
            "__________________________________________________________________________________________________\n",
            "block6_sepconv1_act (Activation (None, 8, 8, 728)    0           add_3[0][0]                      \n",
            "__________________________________________________________________________________________________\n",
            "block6_sepconv1 (SeparableConv2 (None, 8, 8, 728)    536536      block6_sepconv1_act[0][0]        \n",
            "__________________________________________________________________________________________________\n",
            "block6_sepconv1_bn (BatchNormal (None, 8, 8, 728)    2912        block6_sepconv1[0][0]            \n",
            "__________________________________________________________________________________________________\n",
            "block6_sepconv2_act (Activation (None, 8, 8, 728)    0           block6_sepconv1_bn[0][0]         \n",
            "__________________________________________________________________________________________________\n",
            "block6_sepconv2 (SeparableConv2 (None, 8, 8, 728)    536536      block6_sepconv2_act[0][0]        \n",
            "__________________________________________________________________________________________________\n",
            "block6_sepconv2_bn (BatchNormal (None, 8, 8, 728)    2912        block6_sepconv2[0][0]            \n",
            "__________________________________________________________________________________________________\n",
            "block6_sepconv3_act (Activation (None, 8, 8, 728)    0           block6_sepconv2_bn[0][0]         \n",
            "__________________________________________________________________________________________________\n",
            "block6_sepconv3 (SeparableConv2 (None, 8, 8, 728)    536536      block6_sepconv3_act[0][0]        \n",
            "__________________________________________________________________________________________________\n",
            "block6_sepconv3_bn (BatchNormal (None, 8, 8, 728)    2912        block6_sepconv3[0][0]            \n",
            "__________________________________________________________________________________________________\n",
            "add_4 (Add)                     (None, 8, 8, 728)    0           block6_sepconv3_bn[0][0]         \n",
            "                                                                 add_3[0][0]                      \n",
            "__________________________________________________________________________________________________\n",
            "block7_sepconv1_act (Activation (None, 8, 8, 728)    0           add_4[0][0]                      \n",
            "__________________________________________________________________________________________________\n",
            "block7_sepconv1 (SeparableConv2 (None, 8, 8, 728)    536536      block7_sepconv1_act[0][0]        \n",
            "__________________________________________________________________________________________________\n",
            "block7_sepconv1_bn (BatchNormal (None, 8, 8, 728)    2912        block7_sepconv1[0][0]            \n",
            "__________________________________________________________________________________________________\n",
            "block7_sepconv2_act (Activation (None, 8, 8, 728)    0           block7_sepconv1_bn[0][0]         \n",
            "__________________________________________________________________________________________________\n",
            "block7_sepconv2 (SeparableConv2 (None, 8, 8, 728)    536536      block7_sepconv2_act[0][0]        \n",
            "__________________________________________________________________________________________________\n",
            "block7_sepconv2_bn (BatchNormal (None, 8, 8, 728)    2912        block7_sepconv2[0][0]            \n",
            "__________________________________________________________________________________________________\n",
            "block7_sepconv3_act (Activation (None, 8, 8, 728)    0           block7_sepconv2_bn[0][0]         \n",
            "__________________________________________________________________________________________________\n",
            "block7_sepconv3 (SeparableConv2 (None, 8, 8, 728)    536536      block7_sepconv3_act[0][0]        \n",
            "__________________________________________________________________________________________________\n",
            "block7_sepconv3_bn (BatchNormal (None, 8, 8, 728)    2912        block7_sepconv3[0][0]            \n",
            "__________________________________________________________________________________________________\n",
            "add_5 (Add)                     (None, 8, 8, 728)    0           block7_sepconv3_bn[0][0]         \n",
            "                                                                 add_4[0][0]                      \n",
            "__________________________________________________________________________________________________\n",
            "block8_sepconv1_act (Activation (None, 8, 8, 728)    0           add_5[0][0]                      \n",
            "__________________________________________________________________________________________________\n",
            "block8_sepconv1 (SeparableConv2 (None, 8, 8, 728)    536536      block8_sepconv1_act[0][0]        \n",
            "__________________________________________________________________________________________________\n",
            "block8_sepconv1_bn (BatchNormal (None, 8, 8, 728)    2912        block8_sepconv1[0][0]            \n",
            "__________________________________________________________________________________________________\n",
            "block8_sepconv2_act (Activation (None, 8, 8, 728)    0           block8_sepconv1_bn[0][0]         \n",
            "__________________________________________________________________________________________________\n",
            "block8_sepconv2 (SeparableConv2 (None, 8, 8, 728)    536536      block8_sepconv2_act[0][0]        \n",
            "__________________________________________________________________________________________________\n",
            "block8_sepconv2_bn (BatchNormal (None, 8, 8, 728)    2912        block8_sepconv2[0][0]            \n",
            "__________________________________________________________________________________________________\n",
            "block8_sepconv3_act (Activation (None, 8, 8, 728)    0           block8_sepconv2_bn[0][0]         \n",
            "__________________________________________________________________________________________________\n",
            "block8_sepconv3 (SeparableConv2 (None, 8, 8, 728)    536536      block8_sepconv3_act[0][0]        \n",
            "__________________________________________________________________________________________________\n",
            "block8_sepconv3_bn (BatchNormal (None, 8, 8, 728)    2912        block8_sepconv3[0][0]            \n",
            "__________________________________________________________________________________________________\n",
            "add_6 (Add)                     (None, 8, 8, 728)    0           block8_sepconv3_bn[0][0]         \n",
            "                                                                 add_5[0][0]                      \n",
            "__________________________________________________________________________________________________\n",
            "block9_sepconv1_act (Activation (None, 8, 8, 728)    0           add_6[0][0]                      \n",
            "__________________________________________________________________________________________________\n",
            "block9_sepconv1 (SeparableConv2 (None, 8, 8, 728)    536536      block9_sepconv1_act[0][0]        \n",
            "__________________________________________________________________________________________________\n",
            "block9_sepconv1_bn (BatchNormal (None, 8, 8, 728)    2912        block9_sepconv1[0][0]            \n",
            "__________________________________________________________________________________________________\n",
            "block9_sepconv2_act (Activation (None, 8, 8, 728)    0           block9_sepconv1_bn[0][0]         \n",
            "__________________________________________________________________________________________________\n",
            "block9_sepconv2 (SeparableConv2 (None, 8, 8, 728)    536536      block9_sepconv2_act[0][0]        \n",
            "__________________________________________________________________________________________________\n",
            "block9_sepconv2_bn (BatchNormal (None, 8, 8, 728)    2912        block9_sepconv2[0][0]            \n",
            "__________________________________________________________________________________________________\n",
            "block9_sepconv3_act (Activation (None, 8, 8, 728)    0           block9_sepconv2_bn[0][0]         \n",
            "__________________________________________________________________________________________________\n",
            "block9_sepconv3 (SeparableConv2 (None, 8, 8, 728)    536536      block9_sepconv3_act[0][0]        \n",
            "__________________________________________________________________________________________________\n",
            "block9_sepconv3_bn (BatchNormal (None, 8, 8, 728)    2912        block9_sepconv3[0][0]            \n",
            "__________________________________________________________________________________________________\n",
            "add_7 (Add)                     (None, 8, 8, 728)    0           block9_sepconv3_bn[0][0]         \n",
            "                                                                 add_6[0][0]                      \n",
            "__________________________________________________________________________________________________\n",
            "block10_sepconv1_act (Activatio (None, 8, 8, 728)    0           add_7[0][0]                      \n",
            "__________________________________________________________________________________________________\n",
            "block10_sepconv1 (SeparableConv (None, 8, 8, 728)    536536      block10_sepconv1_act[0][0]       \n",
            "__________________________________________________________________________________________________\n",
            "block10_sepconv1_bn (BatchNorma (None, 8, 8, 728)    2912        block10_sepconv1[0][0]           \n",
            "__________________________________________________________________________________________________\n",
            "block10_sepconv2_act (Activatio (None, 8, 8, 728)    0           block10_sepconv1_bn[0][0]        \n",
            "__________________________________________________________________________________________________\n",
            "block10_sepconv2 (SeparableConv (None, 8, 8, 728)    536536      block10_sepconv2_act[0][0]       \n",
            "__________________________________________________________________________________________________\n",
            "block10_sepconv2_bn (BatchNorma (None, 8, 8, 728)    2912        block10_sepconv2[0][0]           \n",
            "__________________________________________________________________________________________________\n",
            "block10_sepconv3_act (Activatio (None, 8, 8, 728)    0           block10_sepconv2_bn[0][0]        \n",
            "__________________________________________________________________________________________________\n",
            "block10_sepconv3 (SeparableConv (None, 8, 8, 728)    536536      block10_sepconv3_act[0][0]       \n",
            "__________________________________________________________________________________________________\n",
            "block10_sepconv3_bn (BatchNorma (None, 8, 8, 728)    2912        block10_sepconv3[0][0]           \n",
            "__________________________________________________________________________________________________\n",
            "add_8 (Add)                     (None, 8, 8, 728)    0           block10_sepconv3_bn[0][0]        \n",
            "                                                                 add_7[0][0]                      \n",
            "__________________________________________________________________________________________________\n",
            "block11_sepconv1_act (Activatio (None, 8, 8, 728)    0           add_8[0][0]                      \n",
            "__________________________________________________________________________________________________\n",
            "block11_sepconv1 (SeparableConv (None, 8, 8, 728)    536536      block11_sepconv1_act[0][0]       \n",
            "__________________________________________________________________________________________________\n",
            "block11_sepconv1_bn (BatchNorma (None, 8, 8, 728)    2912        block11_sepconv1[0][0]           \n",
            "__________________________________________________________________________________________________\n",
            "block11_sepconv2_act (Activatio (None, 8, 8, 728)    0           block11_sepconv1_bn[0][0]        \n",
            "__________________________________________________________________________________________________\n",
            "block11_sepconv2 (SeparableConv (None, 8, 8, 728)    536536      block11_sepconv2_act[0][0]       \n",
            "__________________________________________________________________________________________________\n",
            "block11_sepconv2_bn (BatchNorma (None, 8, 8, 728)    2912        block11_sepconv2[0][0]           \n",
            "__________________________________________________________________________________________________\n",
            "block11_sepconv3_act (Activatio (None, 8, 8, 728)    0           block11_sepconv2_bn[0][0]        \n",
            "__________________________________________________________________________________________________\n",
            "block11_sepconv3 (SeparableConv (None, 8, 8, 728)    536536      block11_sepconv3_act[0][0]       \n",
            "__________________________________________________________________________________________________\n",
            "block11_sepconv3_bn (BatchNorma (None, 8, 8, 728)    2912        block11_sepconv3[0][0]           \n",
            "__________________________________________________________________________________________________\n",
            "add_9 (Add)                     (None, 8, 8, 728)    0           block11_sepconv3_bn[0][0]        \n",
            "                                                                 add_8[0][0]                      \n",
            "__________________________________________________________________________________________________\n",
            "block12_sepconv1_act (Activatio (None, 8, 8, 728)    0           add_9[0][0]                      \n",
            "__________________________________________________________________________________________________\n",
            "block12_sepconv1 (SeparableConv (None, 8, 8, 728)    536536      block12_sepconv1_act[0][0]       \n",
            "__________________________________________________________________________________________________\n",
            "block12_sepconv1_bn (BatchNorma (None, 8, 8, 728)    2912        block12_sepconv1[0][0]           \n",
            "__________________________________________________________________________________________________\n",
            "block12_sepconv2_act (Activatio (None, 8, 8, 728)    0           block12_sepconv1_bn[0][0]        \n",
            "__________________________________________________________________________________________________\n",
            "block12_sepconv2 (SeparableConv (None, 8, 8, 728)    536536      block12_sepconv2_act[0][0]       \n",
            "__________________________________________________________________________________________________\n",
            "block12_sepconv2_bn (BatchNorma (None, 8, 8, 728)    2912        block12_sepconv2[0][0]           \n",
            "__________________________________________________________________________________________________\n",
            "block12_sepconv3_act (Activatio (None, 8, 8, 728)    0           block12_sepconv2_bn[0][0]        \n",
            "__________________________________________________________________________________________________\n",
            "block12_sepconv3 (SeparableConv (None, 8, 8, 728)    536536      block12_sepconv3_act[0][0]       \n",
            "__________________________________________________________________________________________________\n",
            "block12_sepconv3_bn (BatchNorma (None, 8, 8, 728)    2912        block12_sepconv3[0][0]           \n",
            "__________________________________________________________________________________________________\n",
            "add_10 (Add)                    (None, 8, 8, 728)    0           block12_sepconv3_bn[0][0]        \n",
            "                                                                 add_9[0][0]                      \n",
            "__________________________________________________________________________________________________\n",
            "block13_sepconv1_act (Activatio (None, 8, 8, 728)    0           add_10[0][0]                     \n",
            "__________________________________________________________________________________________________\n",
            "block13_sepconv1 (SeparableConv (None, 8, 8, 728)    536536      block13_sepconv1_act[0][0]       \n",
            "__________________________________________________________________________________________________\n",
            "block13_sepconv1_bn (BatchNorma (None, 8, 8, 728)    2912        block13_sepconv1[0][0]           \n",
            "__________________________________________________________________________________________________\n",
            "block13_sepconv2_act (Activatio (None, 8, 8, 728)    0           block13_sepconv1_bn[0][0]        \n",
            "__________________________________________________________________________________________________\n",
            "block13_sepconv2 (SeparableConv (None, 8, 8, 1024)   752024      block13_sepconv2_act[0][0]       \n",
            "__________________________________________________________________________________________________\n",
            "block13_sepconv2_bn (BatchNorma (None, 8, 8, 1024)   4096        block13_sepconv2[0][0]           \n",
            "__________________________________________________________________________________________________\n",
            "conv2d_20 (Conv2D)              (None, 4, 4, 1024)   745472      add_10[0][0]                     \n",
            "__________________________________________________________________________________________________\n",
            "block13_pool (MaxPooling2D)     (None, 4, 4, 1024)   0           block13_sepconv2_bn[0][0]        \n",
            "__________________________________________________________________________________________________\n",
            "batch_normalization_6 (BatchNor (None, 4, 4, 1024)   4096        conv2d_20[0][0]                  \n",
            "__________________________________________________________________________________________________\n",
            "add_11 (Add)                    (None, 4, 4, 1024)   0           block13_pool[0][0]               \n",
            "                                                                 batch_normalization_6[0][0]      \n",
            "__________________________________________________________________________________________________\n",
            "block14_sepconv1 (SeparableConv (None, 4, 4, 1536)   1582080     add_11[0][0]                     \n",
            "__________________________________________________________________________________________________\n",
            "block14_sepconv1_bn (BatchNorma (None, 4, 4, 1536)   6144        block14_sepconv1[0][0]           \n",
            "__________________________________________________________________________________________________\n",
            "block14_sepconv1_act (Activatio (None, 4, 4, 1536)   0           block14_sepconv1_bn[0][0]        \n",
            "__________________________________________________________________________________________________\n",
            "block14_sepconv2 (SeparableConv (None, 4, 4, 2048)   3159552     block14_sepconv1_act[0][0]       \n",
            "__________________________________________________________________________________________________\n",
            "block14_sepconv2_bn (BatchNorma (None, 4, 4, 2048)   8192        block14_sepconv2[0][0]           \n",
            "__________________________________________________________________________________________________\n",
            "block14_sepconv2_act (Activatio (None, 4, 4, 2048)   0           block14_sepconv2_bn[0][0]        \n",
            "==================================================================================================\n",
            "Total params: 20,861,480\n",
            "Trainable params: 0\n",
            "Non-trainable params: 20,861,480\n",
            "__________________________________________________________________________________________________\n"
          ],
          "name": "stdout"
        }
      ]
    },
    {
      "cell_type": "code",
      "metadata": {
        "id": "w9Rrgi43BZBQ"
      },
      "source": [
        "xception_out = xception.get_layer('block12_sepconv1_bn').output\r\n",
        "\r\n",
        "x = Conv2D(512, (3,3), padding = 'same', activation = tf.keras.layers.LeakyReLU(alpha = 0.2))(xception_out)\r\n",
        "x = BatchNormalization(momentum=0.9)(x)\r\n",
        "x = MaxPooling2D((2,2))(x)\r\n",
        "\r\n",
        "x = Conv2D(1024, (3,3), padding = 'same', activation = tf.keras.layers.LeakyReLU(alpha = 0.2))(x)\r\n",
        "x = BatchNormalization(momentum=0.9)(x)\r\n",
        "x = MaxPooling2D((2,2))(x)\r\n",
        "\r\n",
        "x = tf.keras.layers.Flatten()(x)\r\n",
        "\r\n",
        "x = Dense(512, activation='relu')(x)\r\n",
        "x = Dropout(0.4)(x)\r\n",
        "x = Dense(256, activation='relu')(x)\r\n",
        "x = Dropout(0.3)(x)\r\n",
        "\r\n",
        "output_xception = Dense(2, activation='softmax')(x)\r\n",
        "\r\n",
        "model_xception = tf.keras.models.Model(inputs = xception.input, outputs = output_xception)"
      ],
      "execution_count": null,
      "outputs": []
    },
    {
      "cell_type": "code",
      "metadata": {
        "id": "82PrIbqHBipZ"
      },
      "source": [
        "models = [model_xception,model_vgg]\r\n",
        "model_input = tf.keras.Input(shape=(125, 125, 3))\r\n",
        "model_outputs = [model(model_input) for model in models]\r\n",
        "ensemble_output = tf.keras.layers.Average()(model_outputs)\r\n",
        "ensemble_model = tf.keras.models.Model(inputs=model_input, outputs=ensemble_output, name='ensemble')"
      ],
      "execution_count": null,
      "outputs": []
    },
    {
      "cell_type": "code",
      "metadata": {
        "colab": {
          "base_uri": "https://localhost:8080/"
        },
        "id": "xR1IB8y1BpIh",
        "outputId": "a55b65f0-2452-4f94-bf82-5c8574b2e0ce"
      },
      "source": [
        "ensemble_model.summary()"
      ],
      "execution_count": null,
      "outputs": [
        {
          "output_type": "stream",
          "text": [
            "Model: \"ensemble\"\n",
            "__________________________________________________________________________________________________\n",
            "Layer (type)                    Output Shape         Param #     Connected to                     \n",
            "==================================================================================================\n",
            "input_4 (InputLayer)            [(None, 125, 125, 3) 0                                            \n",
            "__________________________________________________________________________________________________\n",
            "model_1 (Functional)            (None, 2)            23291882    input_4[0][0]                    \n",
            "__________________________________________________________________________________________________\n",
            "model (Functional)              (None, 2)            7082690     input_4[0][0]                    \n",
            "__________________________________________________________________________________________________\n",
            "average (Average)               (None, 2)            0           model_1[1][0]                    \n",
            "                                                                 model[1][0]                      \n",
            "==================================================================================================\n",
            "Total params: 30,374,572\n",
            "Trainable params: 15,062,404\n",
            "Non-trainable params: 15,312,168\n",
            "__________________________________________________________________________________________________\n"
          ],
          "name": "stdout"
        }
      ]
    },
    {
      "cell_type": "code",
      "metadata": {
        "id": "F3bZYRTTBxIH"
      },
      "source": [
        "opt = tf.keras.optimizers.Adam(lr = 0.0001)\r\n",
        "ensemble_model.compile(optimizer=opt, loss='categorical_crossentropy', metrics=['accuracy'])"
      ],
      "execution_count": null,
      "outputs": []
    },
    {
      "cell_type": "code",
      "metadata": {
        "colab": {
          "base_uri": "https://localhost:8080/",
          "height": 312
        },
        "id": "uMmuHDmARtrl",
        "outputId": "4746fa99-ff3b-4d6d-db52-0f08ab414a22"
      },
      "source": [
        "tf.keras.utils.plot_model(ensemble_model, 'model.png', show_shapes= True)"
      ],
      "execution_count": null,
      "outputs": [
        {
          "output_type": "execute_result",
          "data": {
            "image/png": "[encoded data removed]",
            "text/plain": [
              "<IPython.core.display.Image object>"
            ]
          },
          "metadata": {
            "tags": []
          },
          "execution_count": 38
        }
      ]
    },
    {
      "cell_type": "markdown",
      "metadata": {
        "id": "sVHxF49I3beI"
      },
      "source": [
        "## Train and test the CNN"
      ]
    },
    {
      "cell_type": "markdown",
      "metadata": {
        "id": "mRF7rm8YQ5Zp"
      },
      "source": [
        "Next, we call the fit method to optimize the model in 48 epochs, then perform predictions."
      ]
    },
    {
      "cell_type": "code",
      "metadata": {
        "colab": {
          "base_uri": "https://localhost:8080/"
        },
        "id": "rFrK9GaU_cy1",
        "outputId": "67433d70-7551-4512-8e17-82d2735db51c"
      },
      "source": [
        "es = tf.keras.callbacks.EarlyStopping(monitor = 'val_loss', patience = 7, verbose = 1)\r\n",
        "rd_lr = tf.keras.callbacks.ReduceLROnPlateau(monitor='val_loss', factor = np.sqrt(0.1), patience= 3, verbose = 1, min_lr = 5e-8)\r\n",
        "\r\n",
        "history = ensemble_model.fit(train_dataset, epochs= 48, validation_data= validation_dataset,\r\n",
        "                    verbose = 1, callbacks =[rd_lr,es])"
      ],
      "execution_count": null,
      "outputs": [
        {
          "output_type": "stream",
          "text": [
            "Epoch 1/48\n",
            "345/345 [==============================] - 118s 331ms/step - loss: 0.4628 - accuracy: 0.8426 - val_loss: 0.3002 - val_accuracy: 0.9365\n",
            "Epoch 2/48\n",
            "345/345 [==============================] - 113s 327ms/step - loss: 0.2577 - accuracy: 0.9204 - val_loss: 0.3199 - val_accuracy: 0.9289\n",
            "Epoch 3/48\n",
            "345/345 [==============================] - 112s 325ms/step - loss: 0.2254 - accuracy: 0.9253 - val_loss: 0.3212 - val_accuracy: 0.9442\n",
            "Epoch 4/48\n",
            "345/345 [==============================] - 114s 331ms/step - loss: 0.2304 - accuracy: 0.9197 - val_loss: 0.2380 - val_accuracy: 0.9514\n",
            "Epoch 5/48\n",
            "345/345 [==============================] - 114s 331ms/step - loss: 0.2085 - accuracy: 0.9320 - val_loss: 0.2999 - val_accuracy: 0.9438\n",
            "Epoch 6/48\n",
            "345/345 [==============================] - 114s 331ms/step - loss: 0.1870 - accuracy: 0.9384 - val_loss: 0.1763 - val_accuracy: 0.9550\n",
            "Epoch 7/48\n",
            "345/345 [==============================] - 115s 333ms/step - loss: 0.1916 - accuracy: 0.9362 - val_loss: 0.1524 - val_accuracy: 0.9601\n",
            "Epoch 8/48\n",
            "345/345 [==============================] - 115s 333ms/step - loss: 0.1798 - accuracy: 0.9408 - val_loss: 0.1409 - val_accuracy: 0.9630\n",
            "Epoch 9/48\n",
            "345/345 [==============================] - 114s 330ms/step - loss: 0.1721 - accuracy: 0.9422 - val_loss: 0.1502 - val_accuracy: 0.9558\n",
            "Epoch 10/48\n",
            "345/345 [==============================] - 114s 331ms/step - loss: 0.1736 - accuracy: 0.9428 - val_loss: 0.1335 - val_accuracy: 0.9594\n",
            "Epoch 11/48\n",
            "345/345 [==============================] - 115s 332ms/step - loss: 0.1636 - accuracy: 0.9469 - val_loss: 0.1394 - val_accuracy: 0.9648\n",
            "Epoch 12/48\n",
            "345/345 [==============================] - 116s 335ms/step - loss: 0.1648 - accuracy: 0.9460 - val_loss: 0.1279 - val_accuracy: 0.9630\n",
            "Epoch 13/48\n",
            "345/345 [==============================] - 116s 335ms/step - loss: 0.1532 - accuracy: 0.9496 - val_loss: 0.1065 - val_accuracy: 0.9637\n",
            "Epoch 14/48\n",
            "345/345 [==============================] - 115s 332ms/step - loss: 0.1543 - accuracy: 0.9490 - val_loss: 0.1181 - val_accuracy: 0.9630\n",
            "Epoch 15/48\n",
            "345/345 [==============================] - 115s 333ms/step - loss: 0.1577 - accuracy: 0.9500 - val_loss: 0.1080 - val_accuracy: 0.9623\n",
            "Epoch 16/48\n",
            "345/345 [==============================] - 115s 332ms/step - loss: 0.1513 - accuracy: 0.9507 - val_loss: 0.1301 - val_accuracy: 0.9630\n",
            "\n",
            "Epoch 00016: ReduceLROnPlateau reducing learning rate to 3.1622775802825264e-05.\n",
            "Epoch 17/48\n",
            "345/345 [==============================] - 115s 332ms/step - loss: 0.1483 - accuracy: 0.9485 - val_loss: 0.1091 - val_accuracy: 0.9637\n",
            "Epoch 18/48\n",
            "345/345 [==============================] - 115s 334ms/step - loss: 0.1414 - accuracy: 0.9538 - val_loss: 0.1086 - val_accuracy: 0.9652\n",
            "Epoch 19/48\n",
            "345/345 [==============================] - 115s 333ms/step - loss: 0.1448 - accuracy: 0.9512 - val_loss: 0.1138 - val_accuracy: 0.9634\n",
            "\n",
            "Epoch 00019: ReduceLROnPlateau reducing learning rate to 9.999999259090306e-06.\n",
            "Epoch 20/48\n",
            "345/345 [==============================] - 115s 332ms/step - loss: 0.1319 - accuracy: 0.9557 - val_loss: 0.0990 - val_accuracy: 0.9666\n",
            "Epoch 21/48\n",
            "345/345 [==============================] - 115s 333ms/step - loss: 0.1259 - accuracy: 0.9561 - val_loss: 0.0973 - val_accuracy: 0.9666\n",
            "Epoch 22/48\n",
            "345/345 [==============================] - 114s 330ms/step - loss: 0.1336 - accuracy: 0.9559 - val_loss: 0.0985 - val_accuracy: 0.9670\n",
            "Epoch 23/48\n",
            "345/345 [==============================] - 115s 333ms/step - loss: 0.1243 - accuracy: 0.9577 - val_loss: 0.0958 - val_accuracy: 0.9674\n",
            "Epoch 24/48\n",
            "345/345 [==============================] - 115s 333ms/step - loss: 0.1256 - accuracy: 0.9581 - val_loss: 0.0990 - val_accuracy: 0.9666\n",
            "Epoch 25/48\n",
            "345/345 [==============================] - 115s 334ms/step - loss: 0.1324 - accuracy: 0.9535 - val_loss: 0.0955 - val_accuracy: 0.9663\n",
            "Epoch 26/48\n",
            "345/345 [==============================] - 115s 334ms/step - loss: 0.1328 - accuracy: 0.9557 - val_loss: 0.1018 - val_accuracy: 0.9645\n",
            "Epoch 27/48\n",
            "345/345 [==============================] - 114s 330ms/step - loss: 0.1238 - accuracy: 0.9575 - val_loss: 0.1006 - val_accuracy: 0.9656\n",
            "Epoch 28/48\n",
            "345/345 [==============================] - 114s 331ms/step - loss: 0.1238 - accuracy: 0.9570 - val_loss: 0.0973 - val_accuracy: 0.9659\n",
            "\n",
            "Epoch 00028: ReduceLROnPlateau reducing learning rate to 3.162277292675049e-06.\n",
            "Epoch 29/48\n",
            "345/345 [==============================] - 114s 331ms/step - loss: 0.1279 - accuracy: 0.9575 - val_loss: 0.0984 - val_accuracy: 0.9652\n",
            "Epoch 30/48\n",
            "345/345 [==============================] - 115s 333ms/step - loss: 0.1261 - accuracy: 0.9575 - val_loss: 0.0984 - val_accuracy: 0.9648\n",
            "Epoch 31/48\n",
            "345/345 [==============================] - 115s 333ms/step - loss: 0.1252 - accuracy: 0.9553 - val_loss: 0.0982 - val_accuracy: 0.9634\n",
            "\n",
            "Epoch 00031: ReduceLROnPlateau reducing learning rate to 9.999999115286567e-07.\n",
            "Epoch 32/48\n",
            "345/345 [==============================] - 115s 333ms/step - loss: 0.1241 - accuracy: 0.9553 - val_loss: 0.0990 - val_accuracy: 0.9637\n",
            "Epoch 00032: early stopping\n"
          ],
          "name": "stdout"
        }
      ]
    },
    {
      "cell_type": "markdown",
      "metadata": {
        "id": "WCTj_b6E3beJ"
      },
      "source": [
        "Using the history object, we plot the validation accuracy and loss across the epochs to see how our models coverged."
      ]
    },
    {
      "cell_type": "code",
      "metadata": {
        "colab": {
          "base_uri": "https://localhost:8080/",
          "height": 545
        },
        "id": "TcxjmHDlPTaa",
        "outputId": "b9ac7f0f-29bc-4674-dc6f-9f3c3f04663b"
      },
      "source": [
        "# %% Check Plots\r\n",
        "acc      = history.history['accuracy']\r\n",
        "val_acc  = history.history['val_accuracy']\r\n",
        "loss     = history.history['loss']\r\n",
        "val_loss = history.history['val_loss']\r\n",
        "\r\n",
        "epochs   = range(len(acc)) # Get number of epochs\r\n",
        "\r\n",
        "#------------------------------------------------\r\n",
        "# Plot training and validation accuracy per epoch\r\n",
        "#------------------------------------------------\r\n",
        "plt.plot  ( epochs,     acc, label = 'train acc' )\r\n",
        "plt.plot  ( epochs, val_acc, label = 'val_acc' )\r\n",
        "plt.title ('Training and validation accuracy')\r\n",
        "plt.legend()\r\n",
        "plt.savefig('Accuracy Graph Ensemble Tuned')\r\n",
        "plt.figure()\r\n",
        "\r\n",
        "#------------------------------------------------\r\n",
        "# Plot training and validation loss per epoch\r\n",
        "#------------------------------------------------\r\n",
        "plt.plot  ( epochs,     loss, label = 'TrainLoss' )\r\n",
        "plt.plot  ( epochs, val_loss, label = 'Val_loss' )\r\n",
        "plt.title ('Training and validation loss'   )\r\n",
        "plt.savefig('Loss Graph Ensemble Tuned')\r\n",
        "plt.legend()\r\n",
        "\r\n",
        "plt.show()"
      ],
      "execution_count": null,
      "outputs": [
        {
          "output_type": "display_data",
          "data": {
            "image/png": "[encoded data removed]",
            "text/plain": [
              "<Figure size 432x288 with 1 Axes>"
            ]
          },
          "metadata": {
            "tags": [],
            "needs_background": "light"
          }
        },
        {
          "output_type": "display_data",
          "data": {
            "image/png": "[encoded data removed]",
            "text/plain": [
              "<Figure size 432x288 with 1 Axes>"
            ]
          },
          "metadata": {
            "tags": [],
            "needs_background": "light"
          }
        }
      ]
    },
    {
      "cell_type": "code",
      "metadata": {
        "id": "J9sRWOyEPY-w"
      },
      "source": [
        "filenames = test_generator.filenames\r\n",
        "nb_samples = len(filenames)\r\n",
        "\r\n",
        "predict = ensemble_model.predict(test_generator,steps = nb_samples)\r\n",
        "predictions = predict.argmax(axis = 1)\r\n",
        "true_labels = test_generator.classes"
      ],
      "execution_count": null,
      "outputs": []
    },
    {
      "cell_type": "code",
      "metadata": {
        "id": "zEngCh64Pl06"
      },
      "source": [
        "def plot_confusion_matrix(cm,\r\n",
        "                          target_names,\r\n",
        "                          title='Confusion matrix',\r\n",
        "                          cmap=None,\r\n",
        "                          normalize=True):\r\n",
        " \r\n",
        "\r\n",
        "    accuracy = np.trace(cm) / np.sum(cm).astype('float')\r\n",
        "    misclass = 1 - accuracy\r\n",
        "\r\n",
        "    if cmap is None:\r\n",
        "        cmap = plt.get_cmap('Blues')\r\n",
        "\r\n",
        "    plt.figure(figsize=(8, 6))\r\n",
        "    plt.imshow(cm, interpolation='nearest', cmap=cmap)\r\n",
        "    plt.title(title)\r\n",
        "    plt.colorbar()\r\n",
        "\r\n",
        "    if target_names is not None:\r\n",
        "        tick_marks = np.arange(len(target_names))\r\n",
        "        plt.xticks(tick_marks, target_names, rotation=45)\r\n",
        "        plt.yticks(tick_marks, target_names)\r\n",
        "\r\n",
        "    if normalize:\r\n",
        "        cm = cm.astype('float') / cm.sum(axis=1)[:, np.newaxis]\r\n",
        "\r\n",
        "\r\n",
        "    thresh = cm.max() / 1.5 if normalize else cm.max() / 2\r\n",
        "    for i, j in itertools.product(range(cm.shape[0]), range(cm.shape[1])):\r\n",
        "        if normalize:\r\n",
        "            plt.text(j, i, \"{:0.4f}\".format(cm[i, j]),\r\n",
        "                     horizontalalignment=\"center\",\r\n",
        "                     color=\"white\" if cm[i, j] > thresh else \"black\")\r\n",
        "        else:\r\n",
        "            plt.text(j, i, \"{:,}\".format(cm[i, j]),\r\n",
        "                     horizontalalignment=\"center\",\r\n",
        "                     color=\"white\" if cm[i, j] > thresh else \"black\")\r\n",
        "\r\n",
        "\r\n",
        "    plt.tight_layout()\r\n",
        "    plt.ylabel('True label')\r\n",
        "    plt.xlabel('Predicted label\\naccuracy={:0.4f}; misclass={:0.4f}'.format(accuracy, misclass))\r\n",
        "    plt.show()"
      ],
      "execution_count": null,
      "outputs": []
    },
    {
      "cell_type": "code",
      "metadata": {
        "colab": {
          "base_uri": "https://localhost:8080/",
          "height": 467
        },
        "id": "wYrMFYpSPmIM",
        "outputId": "589dfb6e-bcce-4e95-eff4-d979ea21c597"
      },
      "source": [
        "cm = sklearn.metrics.confusion_matrix(true_labels, predictions)\r\n",
        "target_names = ['Parasitized', 'Uninfected']\r\n",
        "plot_confusion_matrix(cm,target_names)"
      ],
      "execution_count": null,
      "outputs": [
        {
          "output_type": "display_data",
          "data": {
            "image/png": "[encoded data removed]",
            "text/plain": [
              "<Figure size 576x432 with 2 Axes>"
            ]
          },
          "metadata": {
            "tags": [],
            "needs_background": "light"
          }
        }
      ]
    },
    {
      "cell_type": "code",
      "metadata": {
        "colab": {
          "base_uri": "https://localhost:8080/",
          "height": 282
        },
        "id": "-_UgT_0FtdHV",
        "outputId": "b370a81d-c6e2-471a-ed17-f9175e29ae9f"
      },
      "source": [
        "sns.heatmap(cm, annot = True, fmt = 'd')"
      ],
      "execution_count": null,
      "outputs": [
        {
          "output_type": "execute_result",
          "data": {
            "text/plain": [
              "<matplotlib.axes._subplots.AxesSubplot at 0x7fc20272b5f8>"
            ]
          },
          "metadata": {
            "tags": []
          },
          "execution_count": 36
        },
        {
          "output_type": "display_data",
          "data": {
            "image/png": "[encoded data removed]",
            "text/plain": [
              "<Figure size 432x288 with 2 Axes>"
            ]
          },
          "metadata": {
            "tags": [],
            "needs_background": "light"
          }
        }
      ]
    },
    {
      "cell_type": "markdown",
      "metadata": {
        "id": "bZ0O3_-3QzuO"
      },
      "source": [
        "We measure our prediction accuracy using the classification_report function, which gives us the key classification metrics. I will also display those metrics individually so you can know their formulas.\r\n",
        "\r\n",
        "- Precision: ability of the classifier not to label as positive a sample that is negative.\r\n",
        "- Recall: the ability of the classifier to find all the positive samples\r\n",
        "- F1: weighted average of the precision and recall"
      ]
    },
    {
      "cell_type": "code",
      "metadata": {
        "colab": {
          "base_uri": "https://localhost:8080/"
        },
        "id": "wclQoDncteQv",
        "outputId": "6d962b89-0f42-4e5e-ceb0-6be3b611480d"
      },
      "source": [
        "print(classification_report(true_labels, predictions, target_names=target_names))"
      ],
      "execution_count": null,
      "outputs": [
        {
          "output_type": "stream",
          "text": [
            "              precision    recall  f1-score   support\n",
            "\n",
            " Parasitized       0.98      0.94      0.96      1378\n",
            "  Uninfected       0.95      0.98      0.96      1378\n",
            "\n",
            "    accuracy                           0.96      2756\n",
            "   macro avg       0.96      0.96      0.96      2756\n",
            "weighted avg       0.96      0.96      0.96      2756\n",
            "\n"
          ],
          "name": "stdout"
        }
      ]
    }
  ]
}